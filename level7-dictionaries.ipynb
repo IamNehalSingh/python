{
 "cells": [
  {
   "cell_type": "code",
   "execution_count": null,
   "id": "improved-neighbor",
   "metadata": {},
   "outputs": [],
   "source": [
    "#dictionaries-Unorderd collection of data in key :value pair\n",
    "#indexing cant be used in dictionaries\n",
    "#u can store any thing in ditionary num,string,double,dictionary"
   ]
  },
  {
   "cell_type": "code",
   "execution_count": 1,
   "id": "ranging-ranking",
   "metadata": {},
   "outputs": [
    {
     "name": "stdout",
     "output_type": "stream",
     "text": [
      "{'name': 'nehal', 'age': 20}\n",
      "<class 'dict'>\n"
     ]
    }
   ],
   "source": [
    "#1st method\n",
    "user={'name':'nehal','age':20}\n",
    "print(user)\n",
    "print(type(user))"
   ]
  },
  {
   "cell_type": "code",
   "execution_count": 1,
   "id": "armed-spine",
   "metadata": {},
   "outputs": [
    {
     "name": "stdout",
     "output_type": "stream",
     "text": [
      "{'name': 'Nehal', 'age': 20}\n",
      "<class 'dict'>\n"
     ]
    }
   ],
   "source": [
    "#2nd method\n",
    "user=dict(name='Nehal',age=20)\n",
    "print(user)\n",
    "print(type(user))"
   ]
  },
  {
   "cell_type": "code",
   "execution_count": 3,
   "id": "micro-departure",
   "metadata": {},
   "outputs": [
    {
     "name": "stdout",
     "output_type": "stream",
     "text": [
      "Nehal\n"
     ]
    }
   ],
   "source": [
    "#u can acess the user info by the help of key\n",
    "user=dict(name='Nehal',age=20)\n",
    "print(user['name'])"
   ]
  },
  {
   "cell_type": "code",
   "execution_count": 13,
   "id": "smooth-excitement",
   "metadata": {},
   "outputs": [
    {
     "name": "stdout",
     "output_type": "stream",
     "text": [
      "{'name': 'nehal', 'age': 20, 'sex': 'male', 'fav_game': ['cricket', 'chess', 'badmintion']}\n",
      "['cricket', 'chess', 'badmintion']\n"
     ]
    }
   ],
   "source": [
    "user_info={\n",
    "    'name':'nehal',\n",
    "    'age':20,\n",
    "    'sex':'male',\n",
    "    'fav_game': ['cricket','chess','badmintion'],\n",
    "    \n",
    "}\n",
    "print(user_info)\n",
    "print(user_info['fav_game'])"
   ]
  },
  {
   "cell_type": "code",
   "execution_count": 4,
   "id": "behind-crime",
   "metadata": {},
   "outputs": [
    {
     "name": "stdout",
     "output_type": "stream",
     "text": [
      "{'name': 'nehal1'}\n"
     ]
    }
   ],
   "source": [
    "#to add data in empty dictionary\n",
    "user_info={\n",
    "    'name':'nehal',\n",
    "    'age':20,\n",
    "    'sex':'male',\n",
    "    'fav_game': ['cricket','chess','badmintion'],\n",
    "    \n",
    "}\n",
    "user_info2={}\n",
    "user_info2['name'] = 'nehal1'\n",
    "print(user_info2)"
   ]
  },
  {
   "cell_type": "code",
   "execution_count": 6,
   "id": "behind-disco",
   "metadata": {},
   "outputs": [
    {
     "name": "stdout",
     "output_type": "stream",
     "text": [
      "not present\n"
     ]
    }
   ],
   "source": [
    "#to check if key exist in dictionary or not\n",
    "user_info={\n",
    "    'name':'nehal',\n",
    "    'age':20,\n",
    "    'sex':'male',\n",
    "    'fav_game': ['cricket','chess','badmintion'],\n",
    "    \n",
    "}\n",
    "if 'name1' in user_info:\n",
    "    print('present')\n",
    "else:\n",
    "    print('not present')\n",
    "    "
   ]
  },
  {
   "cell_type": "code",
   "execution_count": 7,
   "id": "animal-hands",
   "metadata": {},
   "outputs": [
    {
     "name": "stdout",
     "output_type": "stream",
     "text": [
      "present\n"
     ]
    }
   ],
   "source": [
    "#to check the value weather it is assigned or not\n",
    "user_info={\n",
    "    'name':'nehal',\n",
    "    'age':20,\n",
    "    'sex':'male',\n",
    "    'fav_game': ['cricket','chess','badmintion'],\n",
    "    \n",
    "}\n",
    "if 'nehal' in user_info.values():\n",
    "    print('present')\n",
    "else:\n",
    "    print('not present')"
   ]
  },
  {
   "cell_type": "code",
   "execution_count": 8,
   "id": "compressed-difficulty",
   "metadata": {},
   "outputs": [
    {
     "name": "stdout",
     "output_type": "stream",
     "text": [
      "present\n"
     ]
    }
   ],
   "source": [
    "user_info={\n",
    "    'name':'nehal',\n",
    "    'age':20,\n",
    "    'sex':'male',\n",
    "    'fav_game': ['cricket','chess','badmintion'],\n",
    "    \n",
    "}\n",
    "if 20 in user_info.values():\n",
    "    print('present')\n",
    "else:\n",
    "    print('not present')"
   ]
  },
  {
   "cell_type": "code",
   "execution_count": 9,
   "id": "educated-decline",
   "metadata": {},
   "outputs": [
    {
     "name": "stdout",
     "output_type": "stream",
     "text": [
      "not present\n"
     ]
    }
   ],
   "source": [
    "user_info={\n",
    "    'name':'nehal',\n",
    "    'age':20,\n",
    "    'sex':'male',\n",
    "    'fav_game': ['cricket','chess','badmintion'],\n",
    "    \n",
    "}\n",
    "#take care of data type weather it is string or intger\n",
    "if '20' in user_info.values():\n",
    "    print('present')\n",
    "else:\n",
    "    print('not present')"
   ]
  },
  {
   "cell_type": "code",
   "execution_count": 10,
   "id": "exempt-respondent",
   "metadata": {},
   "outputs": [
    {
     "name": "stdout",
     "output_type": "stream",
     "text": [
      "present\n"
     ]
    }
   ],
   "source": [
    "#to check the complete list\n",
    "user_info={\n",
    "    'name':'nehal',\n",
    "    'age':20,\n",
    "    'sex':'male',\n",
    "    'fav_game': ['cricket','chess','badmintion'],\n",
    "    \n",
    "}\n",
    "\n",
    "if ['cricket','chess','badmintion']  in user_info.values():\n",
    "    print('present')\n",
    "else:\n",
    "    print('not present')\n"
   ]
  },
  {
   "cell_type": "code",
   "execution_count": 13,
   "id": "directed-stamp",
   "metadata": {},
   "outputs": [
    {
     "name": "stdout",
     "output_type": "stream",
     "text": [
      "name\n",
      "age\n",
      "sex\n",
      "fav_game\n"
     ]
    }
   ],
   "source": [
    "#loops in dictionaries\n",
    "user_info={\n",
    "    'name':'nehal',\n",
    "    'age':20,\n",
    "    'sex':'male',\n",
    "    'fav_game': ['cricket','chess','badmintion'],\n",
    "    \n",
    "}\n",
    "\n",
    "for i in user_info:\n",
    "    print(i)"
   ]
  },
  {
   "cell_type": "code",
   "execution_count": 14,
   "id": "chinese-rebel",
   "metadata": {},
   "outputs": [
    {
     "name": "stdout",
     "output_type": "stream",
     "text": [
      "nehal\n",
      "20\n",
      "male\n",
      "['cricket', 'chess', 'badmintion']\n"
     ]
    }
   ],
   "source": [
    "user_info={\n",
    "    'name':'nehal',\n",
    "    'age':20,\n",
    "    'sex':'male',\n",
    "    'fav_game': ['cricket','chess','badmintion'],\n",
    "    \n",
    "}\n",
    "\n",
    "for i in user_info.values():\n",
    "    print(i)"
   ]
  },
  {
   "cell_type": "code",
   "execution_count": 15,
   "id": "stainless-hometown",
   "metadata": {},
   "outputs": [
    {
     "name": "stdout",
     "output_type": "stream",
     "text": [
      "{'name': 'nehal', 'age': 20, 'sex': 'male', 'fav_game': ['cricket', 'chess', 'badmintion'], 'fav_songs': ['songs1', 'song2']}\n"
     ]
    }
   ],
   "source": [
    "#to add data in in dict\n",
    "user_info={\n",
    "    'name':'nehal',\n",
    "    'age':20,\n",
    "    'sex':'male',\n",
    "    'fav_game': ['cricket','chess','badmintion'],\n",
    "    \n",
    "}\n",
    "user_info['fav_songs']=['songs1','song2']\n",
    "print(user_info)"
   ]
  },
  {
   "cell_type": "code",
   "execution_count": 20,
   "id": "competent-transcription",
   "metadata": {},
   "outputs": [
    {
     "name": "stdout",
     "output_type": "stream",
     "text": [
      "popped item is 20\n",
      "{'name': 'nehal', 'sex': 'male', 'fav_game': ['cricket', 'chess', 'badmintion']}\n"
     ]
    }
   ],
   "source": [
    "#to delete data in in dict\n",
    "user_info={\n",
    "    'name':'nehal',\n",
    "    'age':20,\n",
    "    'sex':'male',\n",
    "    'fav_game': ['cricket','chess','badmintion'],\n",
    "    \n",
    "}\n",
    "popped_item=user_info.pop('age')\n",
    "print(f'popped item is {popped_item}')\n",
    "print(user_info)"
   ]
  },
  {
   "cell_type": "code",
   "execution_count": 4,
   "id": "caring-shoot",
   "metadata": {},
   "outputs": [
    {
     "name": "stdout",
     "output_type": "stream",
     "text": [
      "{'name': 'nehal', 'age': 20, 'sex': 'male'}\n",
      "('fav_game', ['cricket', 'chess', 'badmintion'])\n"
     ]
    }
   ],
   "source": [
    "#to delete data in in dict\n",
    "user_info={\n",
    "    'name':'nehal',\n",
    "    'age':20,\n",
    "    'sex':'male',\n",
    "    'fav_game': ['cricket','chess','badmintion'],\n",
    "    \n",
    "}\n",
    "popped_item = user_info.popitem()\n",
    "print(user_info)\n",
    "print(popped_item)"
   ]
  },
  {
   "cell_type": "code",
   "execution_count": 9,
   "id": "sharp-ethnic",
   "metadata": {},
   "outputs": [
    {
     "name": "stdout",
     "output_type": "stream",
     "text": [
      "{'name': 'nehal', 'age': 20, 'sex': 'male', 'fav_game': ['cricket', 'chess', 'badmintion'], 'intrest': 'cricket'}\n"
     ]
    }
   ],
   "source": [
    "#to update the dict\n",
    "user_info={\n",
    "    'name':'nehal',\n",
    "    'age':20,\n",
    "    'sex':'male',\n",
    "    'fav_game': ['cricket','chess','badmintion'],\n",
    "    \n",
    "}\n",
    "more_info={\n",
    "    'intrest':'cricket'\n",
    "}\n",
    "user_info.update(more_info)\n",
    "print(user_info)"
   ]
  },
  {
   "cell_type": "code",
   "execution_count": 10,
   "id": "processed-edition",
   "metadata": {},
   "outputs": [
    {
     "name": "stdout",
     "output_type": "stream",
     "text": [
      "{'name': 'nehal', 'age': 20, 'sex': 'male', 'fav_game': ['cricket', 'chess', 'badmintion'], 'intrest': ['cricket', 'chess', 'Badminton']}\n"
     ]
    }
   ],
   "source": [
    "#to update the dict having list\n",
    "user_info={\n",
    "    'name':'nehal',\n",
    "    'age':20,\n",
    "    'sex':'male',\n",
    "    'fav_game': ['cricket','chess','badmintion'],\n",
    "    \n",
    "}\n",
    "more_info={\n",
    "    'intrest':['cricket','chess','Badminton']\n",
    "}\n",
    "user_info.update(more_info)\n",
    "print(user_info)"
   ]
  },
  {
   "cell_type": "code",
   "execution_count": 12,
   "id": "worse-configuration",
   "metadata": {},
   "outputs": [
    {
     "name": "stdout",
     "output_type": "stream",
     "text": [
      "{'name': 'Raj', 'age': 20, 'sex': 'male', 'fav_game': ['cricket', 'chess', 'badmintion'], 'intrest': ['cricket', 'chess', 'Badminton']}\n"
     ]
    }
   ],
   "source": [
    "#to update the dict having same name\n",
    "user_info={\n",
    "    'name':'nehal',\n",
    "    'age':20,\n",
    "    'sex':'male',\n",
    "    'fav_game': ['cricket','chess','badmintion'],\n",
    "    \n",
    "}\n",
    "more_info={\n",
    "    'name':'Raj',\n",
    "    'intrest': ['cricket','chess','Badminton']\n",
    "}\n",
    "#final output after getting udate name will be raj instead of Nehal\n",
    "user_info.update(more_info)\n",
    "print(user_info)"
   ]
  },
  {
   "cell_type": "code",
   "execution_count": null,
   "id": "confidential-idaho",
   "metadata": {},
   "outputs": [],
   "source": [
    "#MEthod is Dictionary\n",
    "#Formkeys\n",
    "It is used to create the dictionary\n",
    "#getmethod\n",
    "it is used to acess the keys in the dict\n"
   ]
  },
  {
   "cell_type": "code",
   "execution_count": 14,
   "id": "contained-smoke",
   "metadata": {},
   "outputs": [
    {
     "ename": "AttributeError",
     "evalue": "type object 'dict' has no attribute 'formkeys'",
     "output_type": "error",
     "traceback": [
      "\u001b[0;31m---------------------------------------------------------------------------\u001b[0m",
      "\u001b[0;31mAttributeError\u001b[0m                            Traceback (most recent call last)",
      "\u001b[0;32m<ipython-input-14-7a283a3cebf3>\u001b[0m in \u001b[0;36m<module>\u001b[0;34m\u001b[0m\n\u001b[1;32m      2\u001b[0m \u001b[0;31m#d={'age1':20,'age2':20}\u001b[0m\u001b[0;34m\u001b[0m\u001b[0;34m\u001b[0m\u001b[0;34m\u001b[0m\u001b[0m\n\u001b[1;32m      3\u001b[0m \u001b[0;34m\u001b[0m\u001b[0m\n\u001b[0;32m----> 4\u001b[0;31m \u001b[0md\u001b[0m\u001b[0;34m=\u001b[0m\u001b[0mdict\u001b[0m\u001b[0;34m.\u001b[0m\u001b[0mformkeys\u001b[0m\u001b[0;34m(\u001b[0m\u001b[0;34m(\u001b[0m\u001b[0;34m'age1'\u001b[0m\u001b[0;34m,\u001b[0m\u001b[0;34m'age2'\u001b[0m\u001b[0;34m)\u001b[0m\u001b[0;34m,\u001b[0m\u001b[0;34m'20'\u001b[0m\u001b[0;34m)\u001b[0m\u001b[0;34m\u001b[0m\u001b[0;34m\u001b[0m\u001b[0m\n\u001b[0m\u001b[1;32m      5\u001b[0m \u001b[0mprint\u001b[0m\u001b[0;34m(\u001b[0m\u001b[0md\u001b[0m\u001b[0;34m)\u001b[0m\u001b[0;34m\u001b[0m\u001b[0;34m\u001b[0m\u001b[0m\n",
      "\u001b[0;31mAttributeError\u001b[0m: type object 'dict' has no attribute 'formkeys'"
     ]
    }
   ],
   "source": [
    "#form Keys\n",
    "#d={'age1':20,'age2':20}\n",
    "\n",
    "d=dict.formkeys(('age1','age2'),'20')\n",
    "print(d)\n"
   ]
  },
  {
   "cell_type": "code",
   "execution_count": 15,
   "id": "opponent-yield",
   "metadata": {},
   "outputs": [
    {
     "name": "stdout",
     "output_type": "stream",
     "text": [
      "20\n"
     ]
    }
   ],
   "source": [
    "#get method\n",
    "d={'age1':20,'age2':20}\n",
    "print(d['age1'])"
   ]
  },
  {
   "cell_type": "code",
   "execution_count": 16,
   "id": "median-stuff",
   "metadata": {},
   "outputs": [
    {
     "name": "stdout",
     "output_type": "stream",
     "text": [
      "20\n"
     ]
    }
   ],
   "source": [
    "d={'age1':20,'age2':20}\n",
    "print(d.get('age1'))"
   ]
  },
  {
   "cell_type": "code",
   "execution_count": 17,
   "id": "coupled-chest",
   "metadata": {},
   "outputs": [
    {
     "name": "stdout",
     "output_type": "stream",
     "text": [
      "None\n"
     ]
    }
   ],
   "source": [
    "d={'age1':20,'age2':20}\n",
    "print(d.get('age3'))"
   ]
  },
  {
   "cell_type": "code",
   "execution_count": 18,
   "id": "designed-dallas",
   "metadata": {},
   "outputs": [
    {
     "name": "stdout",
     "output_type": "stream",
     "text": [
      "Notfound\n"
     ]
    }
   ],
   "source": [
    "d={'age1':20,'age2':20}\n",
    "print(d.get('age3','Notfound'))"
   ]
  },
  {
   "cell_type": "code",
   "execution_count": 19,
   "id": "second-playing",
   "metadata": {},
   "outputs": [
    {
     "data": {
      "text/plain": [
       "{1: 1, 2: 8, 3: 27, 4: 64, 5: 125, 6: 216, 7: 343, 8: 512, 9: 729, 10: 1000}"
      ]
     },
     "execution_count": 19,
     "metadata": {},
     "output_type": "execute_result"
    }
   ],
   "source": [
    "#cube finder\n",
    "def cube_finder(n):\n",
    "    cubes={}\n",
    "    for i in range(1,n+1):\n",
    "        cubes[i]=i**3\n",
    "    return cubes\n",
    "cube_finder(10)\n",
    "        "
   ]
  },
  {
   "cell_type": "code",
   "execution_count": null,
   "id": "gentle-israel",
   "metadata": {},
   "outputs": [],
   "source": []
  }
 ],
 "metadata": {
  "kernelspec": {
   "display_name": "Python 3",
   "language": "python",
   "name": "python3"
  },
  "language_info": {
   "codemirror_mode": {
    "name": "ipython",
    "version": 3
   },
   "file_extension": ".py",
   "mimetype": "text/x-python",
   "name": "python",
   "nbconvert_exporter": "python",
   "pygments_lexer": "ipython3",
   "version": "3.8.5"
  }
 },
 "nbformat": 4,
 "nbformat_minor": 5
}
