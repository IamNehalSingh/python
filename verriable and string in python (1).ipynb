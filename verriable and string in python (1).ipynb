{
 "cells": [
  {
   "cell_type": "code",
   "execution_count": 8,
   "id": "returning-digit",
   "metadata": {},
   "outputs": [
    {
     "name": "stdout",
     "output_type": "stream",
     "text": [
      "2\n"
     ]
    }
   ],
   "source": [
    "# varriable in python\n",
    "num1=2\n",
    "print(num1)\n"
   ]
  },
  {
   "cell_type": "code",
   "execution_count": 11,
   "id": "featured-summit",
   "metadata": {},
   "outputs": [
    {
     "name": "stdout",
     "output_type": "stream",
     "text": [
      "2\n",
      "4\n"
     ]
    }
   ],
   "source": [
    "num1=2\n",
    "print(num1)\n",
    "num1=4\n",
    "print(num1)"
   ]
  },
  {
   "cell_type": "code",
   "execution_count": 12,
   "id": "valued-aruba",
   "metadata": {},
   "outputs": [
    {
     "name": "stdout",
     "output_type": "stream",
     "text": [
      "Nehal\n"
     ]
    }
   ],
   "source": [
    "#in verribale you can stire any string,integer,floating point number\n",
    "#for sting \n",
    "name=\"Nehal\"\n",
    "print(name)"
   ]
  },
  {
   "cell_type": "code",
   "execution_count": 13,
   "id": "lightweight-marker",
   "metadata": {},
   "outputs": [
    {
     "name": "stdout",
     "output_type": "stream",
     "text": [
      "Nehal\n",
      "121\n"
     ]
    }
   ],
   "source": [
    " name=\"Nehal\"\n",
    "print(name)\n",
    "name=121\n",
    "print(name)\n",
    "#this is called dynamic programming\n",
    "#no need of defing the varriable such as int num\n"
   ]
  },
  {
   "cell_type": "code",
   "execution_count": 14,
   "id": "opposite-montana",
   "metadata": {},
   "outputs": [
    {
     "ename": "SyntaxError",
     "evalue": "invalid syntax (<ipython-input-14-b4b0140a7038>, line 3)",
     "output_type": "error",
     "traceback": [
      "\u001b[0;36m  File \u001b[0;32m\"<ipython-input-14-b4b0140a7038>\"\u001b[0;36m, line \u001b[0;32m3\u001b[0m\n\u001b[0;31m    1number=222\u001b[0m\n\u001b[0m     ^\u001b[0m\n\u001b[0;31mSyntaxError\u001b[0m\u001b[0;31m:\u001b[0m invalid syntax\n"
     ]
    }
   ],
   "source": [
    "#rule of varriable \n",
    "#cannot stat with number\n",
    "1number=222\n",
    "print(1number)\n"
   ]
  },
  {
   "cell_type": "code",
   "execution_count": 18,
   "id": "narrative-carpet",
   "metadata": {},
   "outputs": [
    {
     "name": "stdout",
     "output_type": "stream",
     "text": [
      "25\n",
      "45\n"
     ]
    }
   ],
   "source": [
    "#letter,_ can be used \n",
    "a=25\n",
    "print(a)\n",
    "_b=20\n",
    "print(a+_b)"
   ]
  },
  {
   "cell_type": "code",
   "execution_count": 19,
   "id": "single-universe",
   "metadata": {},
   "outputs": [
    {
     "ename": "SyntaxError",
     "evalue": "invalid syntax (<ipython-input-19-cafd1b01e7cc>, line 2)",
     "output_type": "error",
     "traceback": [
      "\u001b[0;36m  File \u001b[0;32m\"<ipython-input-19-cafd1b01e7cc>\"\u001b[0;36m, line \u001b[0;32m2\u001b[0m\n\u001b[0;31m    $abc=24\u001b[0m\n\u001b[0m    ^\u001b[0m\n\u001b[0;31mSyntaxError\u001b[0m\u001b[0;31m:\u001b[0m invalid syntax\n"
     ]
    }
   ],
   "source": [
    "#cannot use special symbol as verriable any where\n",
    "#at decelearing\n",
    "$abc=24\n",
    "print($abc)\n"
   ]
  },
  {
   "cell_type": "code",
   "execution_count": 20,
   "id": "quantitative-heavy",
   "metadata": {},
   "outputs": [
    {
     "name": "stdout",
     "output_type": "stream",
     "text": [
      "2\n"
     ]
    }
   ],
   "source": [
    "#but you can use the number at the middle and end\n",
    "n1=2\n",
    "print(2)"
   ]
  },
  {
   "cell_type": "code",
   "execution_count": 21,
   "id": "static-whole",
   "metadata": {},
   "outputs": [
    {
     "name": "stdout",
     "output_type": "stream",
     "text": [
      "nehal\n"
     ]
    }
   ],
   "source": [
    "#snake case writing\n",
    "user_one=\"nehal\"\n",
    "print(user_one)"
   ]
  },
  {
   "cell_type": "code",
   "execution_count": 22,
   "id": "level-words",
   "metadata": {},
   "outputs": [
    {
     "name": "stdout",
     "output_type": "stream",
     "text": [
      "nehal\n"
     ]
    }
   ],
   "source": [
    "#camel case writing\n",
    "userOne=\"nehal\"\n",
    "print(userOne)"
   ]
  },
  {
   "cell_type": "code",
   "execution_count": 25,
   "id": "advised-apparatus",
   "metadata": {},
   "outputs": [
    {
     "name": "stdout",
     "output_type": "stream",
     "text": [
      "Nehal parmar\n"
     ]
    }
   ],
   "source": [
    "#string concenation\n",
    "first_name=\"Nehal \"\n",
    "last_name=\"parmar\"\n",
    "fullname=first_name +  last_name\n",
    "print(fullname)"
   ]
  },
  {
   "cell_type": "code",
   "execution_count": 26,
   "id": "regional-retail",
   "metadata": {},
   "outputs": [
    {
     "ename": "TypeError",
     "evalue": "can only concatenate str (not \"int\") to str",
     "output_type": "error",
     "traceback": [
      "\u001b[0;31m---------------------------------------------------------------------------\u001b[0m",
      "\u001b[0;31mTypeError\u001b[0m                                 Traceback (most recent call last)",
      "\u001b[0;32m<ipython-input-26-5aa906cfb71e>\u001b[0m in \u001b[0;36m<module>\u001b[0;34m\u001b[0m\n\u001b[1;32m      2\u001b[0m \u001b[0mlast_name\u001b[0m\u001b[0;34m=\u001b[0m\u001b[0;34m\"parmar\"\u001b[0m\u001b[0;34m\u001b[0m\u001b[0;34m\u001b[0m\u001b[0m\n\u001b[1;32m      3\u001b[0m \u001b[0mfullname\u001b[0m\u001b[0;34m=\u001b[0m\u001b[0mfirst_name\u001b[0m \u001b[0;34m+\u001b[0m  \u001b[0mlast_name\u001b[0m\u001b[0;34m\u001b[0m\u001b[0;34m\u001b[0m\u001b[0m\n\u001b[0;32m----> 4\u001b[0;31m \u001b[0mprint\u001b[0m\u001b[0;34m(\u001b[0m\u001b[0mfullname\u001b[0m\u001b[0;34m+\u001b[0m\u001b[0;36m3\u001b[0m\u001b[0;34m)\u001b[0m\u001b[0;31m#you will get error because one string can concenate with other string only\u001b[0m\u001b[0;34m\u001b[0m\u001b[0;34m\u001b[0m\u001b[0m\n\u001b[0m",
      "\u001b[0;31mTypeError\u001b[0m: can only concatenate str (not \"int\") to str"
     ]
    }
   ],
   "source": [
    " first_name=\"Nehal \"\n",
    "last_name=\"parmar\"\n",
    "fullname=first_name +  last_name\n",
    "print(fullname+3)#you will get error because one string can concenate with other string only"
   ]
  },
  {
   "cell_type": "code",
   "execution_count": 30,
   "id": "unlikely-bumper",
   "metadata": {},
   "outputs": [
    {
     "name": "stdout",
     "output_type": "stream",
     "text": [
      "Nehal parmar3\n",
      "Nehal parmar3\n"
     ]
    }
   ],
   "source": [
    "first_name=\"Nehal \"\n",
    "last_name=\"parmar\"\n",
    "fullname=first_name +  last_name\n",
    "print(fullname+\"3\")#integer converted into the string\n",
    "#alternative\n",
    "print(fullname+str(3))"
   ]
  },
  {
   "cell_type": "code",
   "execution_count": 31,
   "id": "literary-transsexual",
   "metadata": {},
   "outputs": [
    {
     "name": "stdout",
     "output_type": "stream",
     "text": [
      "type your name:nehal\n"
     ]
    }
   ],
   "source": [
    "#user input\n",
    "name=input(\"type your name:\")"
   ]
  },
  {
   "cell_type": "code",
   "execution_count": 33,
   "id": "decimal-criminal",
   "metadata": {},
   "outputs": [
    {
     "name": "stdout",
     "output_type": "stream",
     "text": [
      "type your name:nehal\n",
      "hellow nehal\n"
     ]
    }
   ],
   "source": [
    "name=input(\"type your name:\")\n",
    "print(\"hellow \"+name)"
   ]
  },
  {
   "cell_type": "code",
   "execution_count": 35,
   "id": "undefined-india",
   "metadata": {},
   "outputs": [
    {
     "name": "stdout",
     "output_type": "stream",
     "text": [
      "type your age:24\n",
      "your age is 24\n"
     ]
    }
   ],
   "source": [
    "#things to be  noted\n",
    "#input always take the input as string only\n",
    "age=input(\"type your age:\")\n",
    "print(\"your age is \"+age)"
   ]
  },
  {
   "cell_type": "code",
   "execution_count": 36,
   "id": "manual-uruguay",
   "metadata": {},
   "outputs": [
    {
     "name": "stdout",
     "output_type": "stream",
     "text": [
      "enter the first number20\n",
      "enter the second number25\n",
      "2025\n"
     ]
    }
   ],
   "source": [
    "a=input(\"enter the first number\")#Here you take the string as 20\n",
    "b=input(\"enter the second number\")#Here you take the string as 20\n",
    "print(a+b)\n",
    "#here you see the magic "
   ]
  },
  {
   "cell_type": "code",
   "execution_count": 41,
   "id": "stable-composer",
   "metadata": {},
   "outputs": [
    {
     "name": "stdout",
     "output_type": "stream",
     "text": [
      "enter the first number20\n",
      "enter the second number25\n",
      "total is  :45\n"
     ]
    }
   ],
   "source": [
    "a=int(input(\"enter the first number\"))#Here you take the string as 20\n",
    "b=int(input(\"enter the second number\"))#Here you take the string as 20\n",
    "sum=a+b\n",
    "print(\"total is  :\"+str(sum))"
   ]
  },
  {
   "cell_type": "code",
   "execution_count": 45,
   "id": "seven-coalition",
   "metadata": {},
   "outputs": [
    {
     "name": "stdout",
     "output_type": "stream",
     "text": [
      "32.0\n"
     ]
    },
    {
     "ename": "TypeError",
     "evalue": "unsupported operand type(s) for +: 'float' and 'str'",
     "output_type": "error",
     "traceback": [
      "\u001b[0;31m---------------------------------------------------------------------------\u001b[0m",
      "\u001b[0;31mTypeError\u001b[0m                                 Traceback (most recent call last)",
      "\u001b[0;32m<ipython-input-45-aa89d590a761>\u001b[0m in \u001b[0;36m<module>\u001b[0;34m\u001b[0m\n\u001b[1;32m      3\u001b[0m \u001b[0mc\u001b[0m\u001b[0;34m=\u001b[0m\u001b[0mstr\u001b[0m\u001b[0;34m(\u001b[0m\u001b[0;36m4\u001b[0m\u001b[0;34m)\u001b[0m\u001b[0;34m\u001b[0m\u001b[0;34m\u001b[0m\u001b[0m\n\u001b[1;32m      4\u001b[0m \u001b[0mprint\u001b[0m\u001b[0;34m(\u001b[0m\u001b[0ma\u001b[0m\u001b[0;34m+\u001b[0m\u001b[0mb\u001b[0m\u001b[0;34m)\u001b[0m\u001b[0;34m\u001b[0m\u001b[0;34m\u001b[0m\u001b[0m\n\u001b[0;32m----> 5\u001b[0;31m \u001b[0mprint\u001b[0m\u001b[0;34m(\u001b[0m\u001b[0ma\u001b[0m\u001b[0;34m+\u001b[0m\u001b[0mc\u001b[0m\u001b[0;34m)\u001b[0m\u001b[0;31m#sting and float cant be added\u001b[0m\u001b[0;34m\u001b[0m\u001b[0;34m\u001b[0m\u001b[0m\n\u001b[0m\u001b[1;32m      6\u001b[0m \u001b[0mprint\u001b[0m\u001b[0;34m(\u001b[0m\u001b[0mb\u001b[0m\u001b[0;34m+\u001b[0m\u001b[0mc\u001b[0m\u001b[0;34m)\u001b[0m\u001b[0;31m#sting and int cant be added\u001b[0m\u001b[0;34m\u001b[0m\u001b[0;34m\u001b[0m\u001b[0m\n",
      "\u001b[0;31mTypeError\u001b[0m: unsupported operand type(s) for +: 'float' and 'str'"
     ]
    }
   ],
   "source": [
    "b=int(10)\n",
    "a=float(22.00)\n",
    "c=str(4)\n",
    "print(a+b)\n",
    "print(a+c)#sting and float cant be added\n",
    "print(b+c)#sting and int cant be added"
   ]
  },
  {
   "cell_type": "code",
   "execution_count": 49,
   "id": "dirty-bronze",
   "metadata": {},
   "outputs": [
    {
     "name": "stdout",
     "output_type": "stream",
     "text": [
      "hellow nehal and your age is20\n"
     ]
    }
   ],
   "source": [
    "#for decelearing more than one verriabke at atime\n",
    "name,age='nehal',20\n",
    "print(\"hellow \"+name +\" and your age is\"+str(age))"
   ]
  },
  {
   "cell_type": "code",
   "execution_count": 51,
   "id": "annual-genius",
   "metadata": {},
   "outputs": [
    {
     "name": "stdout",
     "output_type": "stream",
     "text": [
      "3\n"
     ]
    }
   ],
   "source": [
    "x=y=z=1\n",
    "print(x+y+z)"
   ]
  },
  {
   "cell_type": "code",
   "execution_count": 1,
   "id": "german-bruce",
   "metadata": {},
   "outputs": [
    {
     "name": "stdout",
     "output_type": "stream",
     "text": [
      "enter your name and age::nehal 20\n"
     ]
    }
   ],
   "source": [
    "name,age=input(\"enter your name and age::\").split()"
   ]
  },
  {
   "cell_type": "code",
   "execution_count": 2,
   "id": "revolutionary-accused",
   "metadata": {},
   "outputs": [
    {
     "name": "stdout",
     "output_type": "stream",
     "text": [
      "enter your name and age::nehal,20\n"
     ]
    }
   ],
   "source": [
    "name,age=input(\"enter your name and age::\").split(\",\")"
   ]
  },
  {
   "cell_type": "code",
   "execution_count": 6,
   "id": "logical-glucose",
   "metadata": {},
   "outputs": [
    {
     "name": "stdout",
     "output_type": "stream",
     "text": [
      "hellow nehal your age is 20\n"
     ]
    }
   ],
   "source": [
    "#string formatting\n",
    "name='nehal'\n",
    "age=20\n",
    "print(\"hellow \"+name+\" your age is \" +str(age))\n"
   ]
  },
  {
   "cell_type": "code",
   "execution_count": 11,
   "id": "beginning-batch",
   "metadata": {},
   "outputs": [
    {
     "name": "stdout",
     "output_type": "stream",
     "text": [
      "hellow nehaland your age is 20\n"
     ]
    }
   ],
   "source": [
    "name='nehal'\n",
    "age=20\n",
    "print(\"hellow {}and your age is {}\".format(name,age))"
   ]
  },
  {
   "cell_type": "code",
   "execution_count": 12,
   "id": "quality-dover",
   "metadata": {},
   "outputs": [
    {
     "name": "stdout",
     "output_type": "stream",
     "text": [
      "hellow nehal and your age is 20\n"
     ]
    }
   ],
   "source": [
    "name='nehal'\n",
    "age=20\n",
    "print(f\"hellow {name} and your age is {age}\") "
   ]
  },
  {
   "cell_type": "code",
   "execution_count": 13,
   "id": "local-direction",
   "metadata": {},
   "outputs": [
    {
     "name": "stdout",
     "output_type": "stream",
     "text": [
      "hellow nehal and your age is 22\n"
     ]
    }
   ],
   "source": [
    "name='nehal'\n",
    "age=20\n",
    "print(f\"hellow {name} and your age is {age+2}\")"
   ]
  },
  {
   "cell_type": "code",
   "execution_count": 25,
   "id": "supposed-preference",
   "metadata": {},
   "outputs": [
    {
     "name": "stdout",
     "output_type": "stream",
     "text": [
      "enter three number a,b,c 10,20,30\n",
      "20.0\n"
     ]
    }
   ],
   "source": [
    "a,b,c=(input(\"enter three number a,b,c \").split(\",\"))\n",
    "average=((int(a)+int(b)+int(c))/3)\n",
    "print(str(average))\n"
   ]
  },
  {
   "cell_type": "code",
   "execution_count": 27,
   "id": "prime-product",
   "metadata": {},
   "outputs": [
    {
     "name": "stdout",
     "output_type": "stream",
     "text": [
      "e\n",
      "l\n"
     ]
    }
   ],
   "source": [
    "#sting indexing\n",
    "#position always starts from zero\n",
    "name=\"nehal\"\n",
    "print(name[1])\n",
    "print(name[-1])\n"
   ]
  },
  {
   "cell_type": "code",
   "execution_count": 32,
   "id": "monetary-mining",
   "metadata": {},
   "outputs": [
    {
     "name": "stdout",
     "output_type": "stream",
     "text": [
      "ehal\n",
      "\n"
     ]
    }
   ],
   "source": [
    "name=\"nehal\"\n",
    "print(name[1:5])"
   ]
  },
  {
   "cell_type": "code",
   "execution_count": 42,
   "id": "proud-tournament",
   "metadata": {},
   "outputs": [
    {
     "name": "stdout",
     "output_type": "stream",
     "text": [
      "nehal\n",
      "\n"
     ]
    }
   ],
   "source": [
    "name=\"nehal\"\n",
    "print(name[:])\n",
    "print(name[-1:-4])"
   ]
  },
  {
   "cell_type": "code",
   "execution_count": 46,
   "id": "present-bolivia",
   "metadata": {},
   "outputs": [
    {
     "name": "stdout",
     "output_type": "stream",
     "text": [
      "ne\n"
     ]
    }
   ],
   "source": [
    "name=\"nehal\"\n",
    "print(name[-5:-3])"
   ]
  },
  {
   "cell_type": "code",
   "execution_count": 48,
   "id": "current-macedonia",
   "metadata": {},
   "outputs": [
    {
     "name": "stdout",
     "output_type": "stream",
     "text": [
      "hal\n"
     ]
    }
   ],
   "source": [
    "name=\"nehal\"\n",
    "print(name[2:])"
   ]
  },
  {
   "cell_type": "code",
   "execution_count": 49,
   "id": "killing-minutes",
   "metadata": {},
   "outputs": [
    {
     "name": "stdout",
     "output_type": "stream",
     "text": [
      "ne\n"
     ]
    }
   ],
   "source": [
    "name=\"nehal\"\n",
    "print(name[:2])"
   ]
  },
  {
   "cell_type": "code",
   "execution_count": 50,
   "id": "aging-kingston",
   "metadata": {},
   "outputs": [
    {
     "name": "stdout",
     "output_type": "stream",
     "text": [
      "ea\n"
     ]
    }
   ],
   "source": [
    "#step arguement\n",
    "name=\"nehal\"\n",
    "print(name[1:5:2])"
   ]
  },
  {
   "cell_type": "code",
   "execution_count": 55,
   "id": "informed-swaziland",
   "metadata": {},
   "outputs": [
    {
     "name": "stdout",
     "output_type": "stream",
     "text": [
      "lahen\n"
     ]
    }
   ],
   "source": [
    "name=\"nehal\"\n",
    "print(name[::-1])"
   ]
  },
  {
   "cell_type": "code",
   "execution_count": 56,
   "id": "handled-ticket",
   "metadata": {},
   "outputs": [
    {
     "name": "stdout",
     "output_type": "stream",
     "text": [
      "enter your namenehal\n",
      "lahen\n"
     ]
    }
   ],
   "source": [
    "name=input(\"enter your name:\")\n",
    "print(name[::-1])"
   ]
  },
  {
   "cell_type": "code",
   "execution_count": 58,
   "id": "military-award",
   "metadata": {},
   "outputs": [
    {
     "name": "stdout",
     "output_type": "stream",
     "text": [
      "5\n"
     ]
    }
   ],
   "source": [
    "#sting function length len()\n",
    "name=\"nehal\"\n",
    "print(len(\"nehal\"))"
   ]
  },
  {
   "cell_type": "code",
   "execution_count": 60,
   "id": "other-village",
   "metadata": {},
   "outputs": [
    {
     "name": "stdout",
     "output_type": "stream",
     "text": [
      "nehal\n"
     ]
    }
   ],
   "source": [
    "#method lower() \n",
    "name=\"Nehal\"\n",
    "print(name.lower())"
   ]
  },
  {
   "cell_type": "code",
   "execution_count": 61,
   "id": "listed-power",
   "metadata": {},
   "outputs": [
    {
     "name": "stdout",
     "output_type": "stream",
     "text": [
      "NEHAL\n"
     ]
    }
   ],
   "source": [
    "#method upper() \n",
    "name=\"Nehal\"\n",
    "print(name.upper())"
   ]
  },
  {
   "cell_type": "code",
   "execution_count": 63,
   "id": "prospective-tomorrow",
   "metadata": {},
   "outputs": [
    {
     "name": "stdout",
     "output_type": "stream",
     "text": [
      "Nehal\n"
     ]
    }
   ],
   "source": [
    "#method title() \n",
    "name=\"NeHal\"\n",
    "print(name.title())"
   ]
  },
  {
   "cell_type": "code",
   "execution_count": 65,
   "id": "trying-twenty",
   "metadata": {},
   "outputs": [
    {
     "name": "stdout",
     "output_type": "stream",
     "text": [
      "1\n"
     ]
    }
   ],
   "source": [
    "#method count() \n",
    "name=\"NeHal\"\n",
    "print(name.count(\"H\"))"
   ]
  },
  {
   "cell_type": "code",
   "execution_count": 68,
   "id": "successful-throat",
   "metadata": {},
   "outputs": [
    {
     "name": "stdout",
     "output_type": "stream",
     "text": [
      "enter your name and char:sagarmatha,a\n",
      "10\n",
      "4\n"
     ]
    }
   ],
   "source": [
    "name,char=input(\"enter your name and char:\").split(\",\")\n",
    "print(len(name))\n",
    "print(name.count(char))"
   ]
  },
  {
   "cell_type": "code",
   "execution_count": 75,
   "id": "alternative-confidentiality",
   "metadata": {},
   "outputs": [
    {
     "name": "stdout",
     "output_type": "stream",
     "text": [
      "   nehal  \n",
      "   nehal  ........\n",
      "nehal  ........\n",
      "   nehal........\n",
      "nehal........\n",
      "nehal\n"
     ]
    }
   ],
   "source": [
    "#strip method is used to remove the space from the string\n",
    "name=\"   nehal  \"\n",
    "dots=\"........\"\n",
    "print(name)\n",
    "print(name+dots)\n",
    "print(name.lstrip() +dots)\n",
    "print(name.rstrip() +dots)\n",
    "print(name.strip() +dots)\n",
    "print(name.replace(\" \",\"\"))\n",
    "\n",
    "\n"
   ]
  },
  {
   "cell_type": "code",
   "execution_count": 87,
   "id": "ordinary-thong",
   "metadata": {},
   "outputs": [
    {
     "name": "stdout",
     "output_type": "stream",
     "text": [
      "Thisisallapoutpythonis\n",
      "Thwith with all apout python with \n",
      "Thwith with all apout python with \n",
      "2\n",
      "5\n"
     ]
    }
   ],
   "source": [
    "#replace and find\n",
    "string=\"This is all apout python is \"\n",
    "print(string.replace(\" \",\"\"))\n",
    "print(string.replace(\"is\",\"with\"))\n",
    "print(string.replace(\"is\",\"with\",3))\n",
    "print(string.find(\"is\"))\n",
    "print(string.find(\"is\",3)) \n",
    "\n"
   ]
  },
  {
   "cell_type": "code",
   "execution_count": 90,
   "id": "whole-display",
   "metadata": {},
   "outputs": [
    {
     "name": "stdout",
     "output_type": "stream",
     "text": [
      "**Nehal**\n"
     ]
    }
   ],
   "source": [
    "#center method\n",
    "name=\"Nehal\"\n",
    "print(name.center(9,\"*\"))#5 string size+4\n"
   ]
  },
  {
   "cell_type": "code",
   "execution_count": 92,
   "id": "raising-entrance",
   "metadata": {},
   "outputs": [
    {
     "ename": "TypeError",
     "evalue": "'str' object does not support item assignment",
     "output_type": "error",
     "traceback": [
      "\u001b[0;31m---------------------------------------------------------------------------\u001b[0m",
      "\u001b[0;31mTypeError\u001b[0m                                 Traceback (most recent call last)",
      "\u001b[0;32m<ipython-input-92-064076af4618>\u001b[0m in \u001b[0;36m<module>\u001b[0;34m\u001b[0m\n\u001b[1;32m      1\u001b[0m \u001b[0;31m#string is immutabe\u001b[0m\u001b[0;34m\u001b[0m\u001b[0;34m\u001b[0m\u001b[0;34m\u001b[0m\u001b[0m\n\u001b[1;32m      2\u001b[0m \u001b[0mneme\u001b[0m\u001b[0;34m=\u001b[0m\u001b[0;34m\"name\"\u001b[0m\u001b[0;34m\u001b[0m\u001b[0;34m\u001b[0m\u001b[0m\n\u001b[0;32m----> 3\u001b[0;31m \u001b[0mstring\u001b[0m\u001b[0;34m[\u001b[0m\u001b[0;36m1\u001b[0m\u001b[0;34m]\u001b[0m\u001b[0;34m=\u001b[0m\u001b[0;34m'N'\u001b[0m\u001b[0;34m\u001b[0m\u001b[0;34m\u001b[0m\u001b[0m\n\u001b[0m",
      "\u001b[0;31mTypeError\u001b[0m: 'str' object does not support item assignment"
     ]
    }
   ],
   "source": [
    "#string is immutabe\n",
    "neme=\"name\"\n",
    "string[1]='N'"
   ]
  },
  {
   "cell_type": "code",
   "execution_count": 93,
   "id": "processed-depression",
   "metadata": {},
   "outputs": [
    {
     "name": "stdout",
     "output_type": "stream",
     "text": [
      "40\n"
     ]
    }
   ],
   "source": [
    "age=20\n",
    "age=age+20\n",
    "print(age)"
   ]
  },
  {
   "cell_type": "code",
   "execution_count": 94,
   "id": "saving-astronomy",
   "metadata": {},
   "outputs": [
    {
     "name": "stdout",
     "output_type": "stream",
     "text": [
      "40\n"
     ]
    }
   ],
   "source": [
    "age=20\n",
    "age+=20\n",
    "print(age)"
   ]
  },
  {
   "cell_type": "code",
   "execution_count": null,
   "id": "geological-circulation",
   "metadata": {},
   "outputs": [],
   "source": []
  }
 ],
 "metadata": {
  "kernelspec": {
   "display_name": "Python 3",
   "language": "python",
   "name": "python3"
  },
  "language_info": {
   "codemirror_mode": {
    "name": "ipython",
    "version": 3
   },
   "file_extension": ".py",
   "mimetype": "text/x-python",
   "name": "python",
   "nbconvert_exporter": "python",
   "pygments_lexer": "ipython3",
   "version": "3.8.5"
  }
 },
 "nbformat": 4,
 "nbformat_minor": 5
}
