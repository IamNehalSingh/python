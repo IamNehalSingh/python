{
 "cells": [
  {
   "cell_type": "code",
   "execution_count": null,
   "id": "secret-links",
   "metadata": {},
   "outputs": [],
   "source": [
    "#filter Function\n"
   ]
  },
  {
   "cell_type": "code",
   "execution_count": 1,
   "id": "medical-affiliate",
   "metadata": {},
   "outputs": [
    {
     "name": "stdout",
     "output_type": "stream",
     "text": [
      "<filter object at 0x7fbc00c087f0>\n"
     ]
    }
   ],
   "source": [
    "def is_even(a):\n",
    "    return a%2==0\n",
    "numbers=[3,4,2,1,5,6,9,8,7,10]\n",
    "print(filter(is_even,numbers))\n"
   ]
  },
  {
   "cell_type": "code",
   "execution_count": 3,
   "id": "identified-twenty",
   "metadata": {},
   "outputs": [
    {
     "name": "stdout",
     "output_type": "stream",
     "text": [
      "(4, 2, 6, 8, 10)\n"
     ]
    }
   ],
   "source": [
    "def is_even(a):\n",
    "    return a%2==0\n",
    "numbers=[3,4,2,1,5,6,9,8,7,10]\n",
    "evens = tuple(filter(is_even,numbers))\n",
    "print(evens)\n"
   ]
  },
  {
   "cell_type": "code",
   "execution_count": 4,
   "id": "consecutive-steam",
   "metadata": {},
   "outputs": [
    {
     "name": "stdout",
     "output_type": "stream",
     "text": [
      "(4, 2, 6, 8, 10)\n"
     ]
    }
   ],
   "source": [
    "numbers=[3,4,2,1,5,6,9,8,7,10]\n",
    "evens=tuple(filter(lambda a:a%2==0,numbers))\n",
    "print(evens)"
   ]
  },
  {
   "cell_type": "code",
   "execution_count": 5,
   "id": "blank-bacteria",
   "metadata": {},
   "outputs": [
    {
     "name": "stdout",
     "output_type": "stream",
     "text": [
      "<zip object at 0x7fbc00bd3280>\n"
     ]
    }
   ],
   "source": [
    "#zip Function\n",
    "user_id=['user1','user2','user3']\n",
    "names=['Nehal','Singh','Parmar']\n",
    "print(zip(user_id,names))"
   ]
  },
  {
   "cell_type": "code",
   "execution_count": 6,
   "id": "conditional-intermediate",
   "metadata": {},
   "outputs": [
    {
     "name": "stdout",
     "output_type": "stream",
     "text": [
      "[('user1', 'Nehal'), ('user2', 'Singh'), ('user3', 'Parmar')]\n"
     ]
    }
   ],
   "source": [
    "user_id=['user1','user2','user3']\n",
    "names=['Nehal','Singh','Parmar']\n",
    "print(list(zip(user_id,names)))"
   ]
  },
  {
   "cell_type": "code",
   "execution_count": null,
   "id": "imported-vehicle",
   "metadata": {},
   "outputs": [],
   "source": []
  }
 ],
 "metadata": {
  "kernelspec": {
   "display_name": "Python 3",
   "language": "python",
   "name": "python3"
  },
  "language_info": {
   "codemirror_mode": {
    "name": "ipython",
    "version": 3
   },
   "file_extension": ".py",
   "mimetype": "text/x-python",
   "name": "python",
   "nbconvert_exporter": "python",
   "pygments_lexer": "ipython3",
   "version": "3.8.5"
  }
 },
 "nbformat": 4,
 "nbformat_minor": 5
}
