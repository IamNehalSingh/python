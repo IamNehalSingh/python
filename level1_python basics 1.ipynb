{
 "cells": [
  {
   "cell_type": "code",
   "execution_count": 4,
   "id": "cooperative-wilson",
   "metadata": {},
   "outputs": [
    {
     "name": "stdout",
     "output_type": "stream",
     "text": [
      "# this will not get commented as the python enterperator in the printer statement\n"
     ]
    },
    {
     "data": {
      "text/plain": [
       "\"\\nthis is all about doc string comment\\nthis is not suggested to use the docs string untilll and unless u uses the class string then only you have to use the docs string \\nbecause the docs string will produce the some output in the python compiler where as the multiline comment do't\\n\""
      ]
     },
     "execution_count": 4,
     "metadata": {},
     "output_type": "execute_result"
    }
   ],
   "source": [
    "#Hash cooment This is how you comment in python by giving the hash symbol atthe beging of each line\n",
    "# for short cut key you can press ctr  forward slace /\n",
    "print('# this will not get commented as the python enterperator in the printer statement')\n",
    "# for multiple line comment \n",
    "# you can comment by selecting all the line and the press ctr and forward slace\n",
    "\n",
    "\n",
    "\"\"\"\n",
    "this is all about doc string comment\n",
    "this is not suggested to use the docs string untilll and unless u uses the class string then only you have to use the docs string \n",
    "because the docs string will produce the some output in the python compiler where as the multiline comment do't\n",
    "\"\"\"\n"
   ]
  },
  {
   "cell_type": "code",
   "execution_count": 9,
   "id": "executed-match",
   "metadata": {},
   "outputs": [
    {
     "ename": "SyntaxError",
     "evalue": "invalid syntax (<ipython-input-9-4f2e5b4a351b>, line 11)",
     "output_type": "error",
     "traceback": [
      "\u001b[0;36m  File \u001b[0;32m\"<ipython-input-9-4f2e5b4a351b>\"\u001b[0;36m, line \u001b[0;32m11\u001b[0m\n\u001b[0;31m    print('I 'am Nehal')\u001b[0m\n\u001b[0m              ^\u001b[0m\n\u001b[0;31mSyntaxError\u001b[0m\u001b[0;31m:\u001b[0m invalid syntax\n"
     ]
    }
   ],
   "source": [
    "#in this we will see the differnt method to print in python\n",
    "#Do's while printing\n",
    "print(\"hello world\")#at the end we dont give any symbol ; as we used to do in C++\n",
    "print('hello world1')\n",
    "print(\"welcome  'Nehal'world\")\n",
    "print('hello\"Nehal\" world')\n",
    "# Don't while printing \n",
    "# print(\"hello \"nehal\"world\")\n",
    "# print('hello'nehal' world')\n",
    "#    print(\"hello world4\") its happening because of identation error\n",
    "print('I 'am Nehal')\n"
   ]
  },
  {
   "cell_type": "code",
   "execution_count": 10,
   "id": "cellular-wesley",
   "metadata": {},
   "outputs": [
    {
     "name": "stdout",
     "output_type": "stream",
     "text": [
      "Welcome to  \"nehal\" world\n",
      "Welcome to  'nehal' world\n"
     ]
    }
   ],
   "source": [
    "#Escape sequence\n",
    "# in earler we have seen that we cannot print the the line where the same quote were used but to print as of now we will se how we can print all of those \n",
    "print(\"Welcome to  \\\"nehal\\\" world\")\n",
    "print('Welcome to  \\'nehal\\' world')"
   ]
  },
  {
   "cell_type": "code",
   "execution_count": 15,
   "id": "hawaiian-olympus",
   "metadata": {},
   "outputs": [
    {
     "name": "stdout",
     "output_type": "stream",
     "text": [
      "hellow world\n",
      "hellow world1\n",
      "hellow world2 \n",
      " hellow world3 \n"
     ]
    }
   ],
   "source": [
    "#printing in the new line  \\n \n",
    "print(\"hellow world\")\n",
    "print(\"hellow world1\")\n",
    "#insted of writing the multiple line yoc can give it directly\n",
    "print(\"hellow world2 \\n hellow world3 \")"
   ]
  },
  {
   "cell_type": "code",
   "execution_count": 17,
   "id": "regulated-chart",
   "metadata": {},
   "outputs": [
    {
     "name": "stdout",
     "output_type": "stream",
     "text": [
      "hellow world2 \t hellow world3 \n",
      "hellow world2\\\n",
      "hell\blo\n"
     ]
    }
   ],
   "source": [
    "#for tab\n",
    "print(\"hellow world2 \\t hellow world3 \")\n",
    "#print(\"hellow world2\\\")  \n",
    "#you cannot print this line beacuse at the end you are providing the backslace at the end due to which python enterperature got confused weather the line is compleated or not \n",
    "#so you cannot use \" at a time so to remove this deffiecny wew use the duble back slace\n",
    "print(\"hellow world2\\\\\")  \n",
    "#for back space\n",
    "print(\"hell\\blo\")  #run as a back space "
   ]
  },
  {
   "cell_type": "code",
   "execution_count": 23,
   "id": "pacific-american",
   "metadata": {},
   "outputs": [
    {
     "name": "stdout",
     "output_type": "stream",
     "text": [
      "\\\"  \\'\n",
      "'\n",
      "\\\n",
      "\\'\n"
     ]
    }
   ],
   "source": [
    "#output \\\" \\'\n",
    "print(\"\\\\\\\"  \\\\'\")\n",
    "print(\"\\'\")\n",
    "print(\"\\\\\")\n",
    "print(\"\\\\\\'\")\n",
    "\n"
   ]
  },
  {
   "cell_type": "code",
   "execution_count": 26,
   "id": "baking-horse",
   "metadata": {},
   "outputs": [
    {
     "name": "stdout",
     "output_type": "stream",
     "text": [
      "hellow \\n world\n"
     ]
    }
   ],
   "source": [
    "#to use the  escape sequence as the normal one you can use r at the beging\n",
    "print(r\"hellow \\n world\")"
   ]
  },
  {
   "cell_type": "code",
   "execution_count": 30,
   "id": "bottom-nashville",
   "metadata": {},
   "outputs": [
    {
     "name": "stdout",
     "output_type": "stream",
     "text": [
      "😂\n",
      "😄\n",
      "😆\n"
     ]
    }
   ],
   "source": [
    "#for printing the emoji\n",
    "#go to unicode.org/emoji\n",
    "#print(\"U+1F602\") remove those + with 3 zero and at the begning give the \\\n",
    "print(\"\\U0001F602\") \n",
    "print(\"\\U0001F604\") \n",
    "print(\"\\U0001F606\") \n"
   ]
  },
  {
   "cell_type": "code",
   "execution_count": 1,
   "id": "juvenile-output",
   "metadata": {},
   "outputs": [
    {
     "name": "stdout",
     "output_type": "stream",
     "text": [
      "5\n",
      "6\n",
      "20\n",
      "0.5\n",
      "2.0\n",
      "0\n",
      "2\n",
      "8\n",
      "2.0\n",
      "1.4142135623730951\n",
      "1.4142\n",
      "2\n"
     ]
    }
   ],
   "source": [
    "#python as calculator\n",
    "#simple operator + - *\n",
    "print(2+3)\n",
    "print(2*3)\n",
    "print(2+4*5-2)\n",
    "#float division\n",
    "print(2/4)\n",
    "print(4/2)\n",
    "#integer division\n",
    "print(2//4)\n",
    "print(4//2)\n",
    "#exponent\n",
    "print(2**3)\n",
    "print(4**0.5)\n",
    "#round of\n",
    "print(2**0.5)\n",
    "print(round(2**0.5,4))\n",
    "#module\n",
    "print(2%3)\n"
   ]
  },
  {
   "cell_type": "code",
   "execution_count": null,
   "id": "severe-encounter",
   "metadata": {},
   "outputs": [],
   "source": []
  }
 ],
 "metadata": {
  "kernelspec": {
   "display_name": "Python 3",
   "language": "python",
   "name": "python3"
  },
  "language_info": {
   "codemirror_mode": {
    "name": "ipython",
    "version": 3
   },
   "file_extension": ".py",
   "mimetype": "text/x-python",
   "name": "python",
   "nbconvert_exporter": "python",
   "pygments_lexer": "ipython3",
   "version": "3.8.5"
  }
 },
 "nbformat": 4,
 "nbformat_minor": 5
}
