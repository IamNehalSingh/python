{
 "cells": [
  {
   "cell_type": "code",
   "execution_count": null,
   "id": "colonial-skating",
   "metadata": {},
   "outputs": [],
   "source": [
    "#Dictionary Comprehension \n",
    "#sets Comprehension\n",
    "#they are same as list comprenhension all u need to change in: \n",
    "square={1:1,\n",
    "        2:4,\n",
    "        3:9}\n",
    "square={}"
   ]
  },
  {
   "cell_type": "code",
   "execution_count": 1,
   "id": "incredible-knowing",
   "metadata": {},
   "outputs": [
    {
     "name": "stdout",
     "output_type": "stream",
     "text": [
      "{1: 1, 2: 4, 3: 9}\n"
     ]
    }
   ],
   "source": [
    "square={1:1,\n",
    "        2:4,\n",
    "        3:9}#Dictionary\n",
    "\n",
    "print(square)"
   ]
  },
  {
   "cell_type": "code",
   "execution_count": 8,
   "id": "incorporate-surfing",
   "metadata": {},
   "outputs": [
    {
     "name": "stdout",
     "output_type": "stream",
     "text": [
      "{1: 1, 2: 4, 3: 9}\n"
     ]
    }
   ],
   "source": [
    "square = {num:num**2 for num  in range(1,4)}\n",
    "print(square)"
   ]
  },
  {
   "cell_type": "code",
   "execution_count": 10,
   "id": "informal-scratch",
   "metadata": {},
   "outputs": [
    {
     "name": "stdout",
     "output_type": "stream",
     "text": [
      "{'N': 1, 'e': 1, 'h': 2, 'a': 3, 'l': 1, ' ': 2, 'S': 1, 'i': 1, 'n': 1, 'g': 1, 'P': 1, 'r': 2, 'm': 1}\n"
     ]
    }
   ],
   "source": [
    "string= \"Nehal Singh Parmar\"\n",
    "Word_count = { char:string.count(char) for char in string }\n",
    "print(Word_count)"
   ]
  },
  {
   "cell_type": "code",
   "execution_count": 11,
   "id": "alone-median",
   "metadata": {},
   "outputs": [
    {
     "name": "stdout",
     "output_type": "stream",
     "text": [
      "{1: 'odd', 2: 'even', 3: 'odd', 4: 'even', 5: 'odd', 6: 'even', 7: 'odd', 8: 'even', 9: 'odd', 10: 'even'}\n"
     ]
    }
   ],
   "source": [
    "odd_even={i:('even' if i%2==0 else 'odd') for i in range(1,11)}\n",
    "print(odd_even)"
   ]
  },
  {
   "cell_type": "code",
   "execution_count": 13,
   "id": "afraid-concrete",
   "metadata": {},
   "outputs": [
    {
     "name": "stdout",
     "output_type": "stream",
     "text": [
      "{64, 1, 4, 36, 100, 9, 16, 49, 81, 25}\n"
     ]
    }
   ],
   "source": [
    "#Sets Comprehension\n",
    "#less use \n",
    "S={k**2 for k in range(1,11)}\n",
    "print(S)\n"
   ]
  },
  {
   "cell_type": "code",
   "execution_count": 18,
   "id": "organized-yeast",
   "metadata": {},
   "outputs": [
    {
     "name": "stdout",
     "output_type": "stream",
     "text": [
      "{'P', 'S', 'N'}\n"
     ]
    }
   ],
   "source": [
    "names=['Nehal','Singh','Parmar']\n",
    "first={name[0] for name in names}\n",
    "print(first)"
   ]
  },
  {
   "cell_type": "code",
   "execution_count": null,
   "id": "fitted-arlington",
   "metadata": {},
   "outputs": [],
   "source": []
  }
 ],
 "metadata": {
  "kernelspec": {
   "display_name": "Python 3",
   "language": "python",
   "name": "python3"
  },
  "language_info": {
   "codemirror_mode": {
    "name": "ipython",
    "version": 3
   },
   "file_extension": ".py",
   "mimetype": "text/x-python",
   "name": "python",
   "nbconvert_exporter": "python",
   "pygments_lexer": "ipython3",
   "version": "3.8.5"
  }
 },
 "nbformat": 4,
 "nbformat_minor": 5
}
