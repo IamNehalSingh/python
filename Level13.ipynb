{
 "cells": [
  {
   "cell_type": "code",
   "execution_count": null,
   "id": "widespread-acceptance",
   "metadata": {},
   "outputs": [],
   "source": [
    "#enumerate Function\n",
    "#used to track for loop position\n",
    "\n",
    "#map FUnction \n"
   ]
  },
  {
   "cell_type": "code",
   "execution_count": 2,
   "id": "effective-proposal",
   "metadata": {},
   "outputs": [
    {
     "name": "stdout",
     "output_type": "stream",
     "text": [
      "0---->Nehal\n",
      "1---->Singh\n",
      "2---->parmar\n"
     ]
    }
   ],
   "source": [
    "#without enumerate function\n",
    "names=['Nehal','Singh','parmar']\n",
    "pos=0\n",
    "for name in names:\n",
    "    print(f\"{pos}---->{name}\")\n",
    "    pos+=1\n",
    "          \n",
    "    "
   ]
  },
  {
   "cell_type": "code",
   "execution_count": 3,
   "id": "opposite-killing",
   "metadata": {},
   "outputs": [
    {
     "name": "stdout",
     "output_type": "stream",
     "text": [
      "0---->Nehal\n",
      "1---->Singh\n",
      "2---->parmar\n"
     ]
    }
   ],
   "source": [
    "#with Enumerate Function\n",
    "names=['Nehal','Singh','parmar']\n",
    "for pos,name in enumerate(names):\n",
    "      print(f\"{pos}---->{name}\")"
   ]
  },
  {
   "cell_type": "code",
   "execution_count": 4,
   "id": "comparable-volleyball",
   "metadata": {},
   "outputs": [
    {
     "name": "stdout",
     "output_type": "stream",
     "text": [
      "-1\n"
     ]
    }
   ],
   "source": [
    "def find_pos(l,target):\n",
    "    for pos,name in enumerate(l):\n",
    "        if name==target:\n",
    "            return pos\n",
    "    return -1\n",
    "print(find_pos(names,'harsit'))"
   ]
  },
  {
   "cell_type": "code",
   "execution_count": 7,
   "id": "lovely-gossip",
   "metadata": {},
   "outputs": [
    {
     "name": "stdout",
     "output_type": "stream",
     "text": [
      "[1, 4, 9, 16]\n"
     ]
    }
   ],
   "source": [
    "#Mapfunction\n",
    "numbers=[1,2,3,4]\n",
    "def square(a):\n",
    "    return a**2\n",
    "squares=list(map(square,numbers))\n",
    "print(squares)"
   ]
  },
  {
   "cell_type": "code",
   "execution_count": 9,
   "id": "generic-nightmare",
   "metadata": {},
   "outputs": [
    {
     "name": "stdout",
     "output_type": "stream",
     "text": [
      "[1, 4, 9, 16]\n"
     ]
    }
   ],
   "source": [
    "#using LambdaFunc\n",
    "numbers=[1,2,3,4]\n",
    "\n",
    "squares=list(map(lambda a:a**2,numbers))\n",
    "print(squares)"
   ]
  },
  {
   "cell_type": "code",
   "execution_count": 19,
   "id": "monthly-functionality",
   "metadata": {},
   "outputs": [
    {
     "name": "stdout",
     "output_type": "stream",
     "text": [
      "[1, 4, 9, 16]\n"
     ]
    }
   ],
   "source": [
    "#using listcomp\n",
    "number=[1,2,3,4]\n",
    "squares_new=[i**2 for i in number]\n",
    "print(squares_new)\n"
   ]
  },
  {
   "cell_type": "code",
   "execution_count": 20,
   "id": "medium-evaluation",
   "metadata": {},
   "outputs": [
    {
     "name": "stdout",
     "output_type": "stream",
     "text": [
      "[1, 4, 9, 16]\n"
     ]
    }
   ],
   "source": [
    "number=[1,2,3,4]\n",
    "new_list=[]\n",
    "for num in numbers:\n",
    "    new_list.append(square(num))\n",
    "print(new_list)"
   ]
  },
  {
   "cell_type": "code",
   "execution_count": null,
   "id": "indie-least",
   "metadata": {},
   "outputs": [],
   "source": []
  }
 ],
 "metadata": {
  "kernelspec": {
   "display_name": "Python 3",
   "language": "python",
   "name": "python3"
  },
  "language_info": {
   "codemirror_mode": {
    "name": "ipython",
    "version": 3
   },
   "file_extension": ".py",
   "mimetype": "text/x-python",
   "name": "python",
   "nbconvert_exporter": "python",
   "pygments_lexer": "ipython3",
   "version": "3.8.5"
  }
 },
 "nbformat": 4,
 "nbformat_minor": 5
}
