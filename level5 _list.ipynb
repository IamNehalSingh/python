{
 "cells": [
  {
   "cell_type": "code",
   "execution_count": null,
   "id": "undefined-trick",
   "metadata": {},
   "outputs": [],
   "source": [
    "#list\n",
    "#called as orderd collection of items\n",
    "#in this you can store any thing such as int,float,double,char,list\n",
    "# in array you can store only one type of data type at once but in list you can store the multiple kind of datatype at once\n",
    "#numpy arrays-binding with c libraries\n",
    "#string are immutable(you cannot change the string) where as list are mutable\n",
    "#to add we use\n",
    "append(add at last),extend(to add two list at one place),insert at given positon)\n",
    "#to delate we use \n",
    "pop,del(at the given position as well as at last)\n",
    "remove(to find such word and remove from the list)\n",
    "#count method\n",
    "animal=['cat','cat','dog','fox','lion']\n",
    "print(animal.count('cat'))\n",
    "#shorted number\n",
    "print(sorted(animal)\n",
    "#clear method -to make the list empty\n",
    "#copy method\n",
    "##coparision of list"
   ]
  },
  {
   "cell_type": "code",
   "execution_count": 1,
   "id": "fiscal-diploma",
   "metadata": {},
   "outputs": [
    {
     "name": "stdout",
     "output_type": "stream",
     "text": [
      "[1, 2, 3, 4]\n"
     ]
    }
   ],
   "source": [
    "#list for number\n",
    "num=[1,2,3,4]\n",
    "print(num)"
   ]
  },
  {
   "cell_type": "code",
   "execution_count": 4,
   "id": "meaningful-residence",
   "metadata": {},
   "outputs": [
    {
     "name": "stdout",
     "output_type": "stream",
     "text": [
      "2\n"
     ]
    }
   ],
   "source": [
    "#list for number to excess element \n",
    "#starts with the given  position\n",
    "num=[1,2,3,4]\n",
    "print(num[1])"
   ]
  },
  {
   "cell_type": "code",
   "execution_count": 2,
   "id": "sound-convert",
   "metadata": {},
   "outputs": [
    {
     "name": "stdout",
     "output_type": "stream",
     "text": [
      "['word1', 'word2', 'word3']\n"
     ]
    }
   ],
   "source": [
    "#list for words\n",
    "words=[\"word1\",\"word2\",\"word3\"]\n",
    "print(words)"
   ]
  },
  {
   "cell_type": "code",
   "execution_count": 7,
   "id": "young-thailand",
   "metadata": {},
   "outputs": [
    {
     "name": "stdout",
     "output_type": "stream",
     "text": [
      "['word1', 'word2']\n"
     ]
    }
   ],
   "source": [
    "#you can use slicing here also\n",
    "words=[\"word1\",\"word2\",\"word3\"]\n",
    "print(words[0:2])"
   ]
  },
  {
   "cell_type": "code",
   "execution_count": 3,
   "id": "frozen-sustainability",
   "metadata": {},
   "outputs": [
    {
     "name": "stdout",
     "output_type": "stream",
     "text": [
      "[1, 2, 'word2', 'word3', 2.3, 2.0, None]\n"
     ]
    }
   ],
   "source": [
    "#list for mixed\n",
    "mixed=[1,2,\"word2\",\"word3\",2.3,2.00,None]\n",
    "print(mixed)"
   ]
  },
  {
   "cell_type": "code",
   "execution_count": 8,
   "id": "indirect-announcement",
   "metadata": {},
   "outputs": [
    {
     "name": "stdout",
     "output_type": "stream",
     "text": [
      "[1, 2, 'word2', 'word3', 2.3, 2.0]\n"
     ]
    }
   ],
   "source": [
    "\n",
    "mixed=[1,2,\"word2\",\"word3\",2.3,2.00,None]\n",
    "print(mixed[:-1])"
   ]
  },
  {
   "cell_type": "code",
   "execution_count": 10,
   "id": "heard-potato",
   "metadata": {},
   "outputs": [
    {
     "name": "stdout",
     "output_type": "stream",
     "text": [
      "[1, 2, 'word2', 'word3', 2.3, 2.0, None]\n",
      "['one', 2, 'word2', 'word3', 2.3, 2.0, None]\n"
     ]
    }
   ],
   "source": [
    "#to change your data of the list\n",
    "\n",
    "mixed=[1,2,\"word2\",\"word3\",2.3,2.00,None]\n",
    "print(mixed)\n",
    "\n",
    "mixed[0]='one'\n",
    "print(mixed)"
   ]
  },
  {
   "cell_type": "code",
   "execution_count": 15,
   "id": "communist-deployment",
   "metadata": {},
   "outputs": [
    {
     "name": "stdout",
     "output_type": "stream",
     "text": [
      "['one', 2, 'three']\n"
     ]
    }
   ],
   "source": [
    "mixed=[1,2,\"word2\",\"word3\",2.3,2.00,None]\n",
    "mixed[0:]=['one',2,'three']\n",
    "print(mixed)"
   ]
  },
  {
   "cell_type": "code",
   "execution_count": 18,
   "id": "honey-lemon",
   "metadata": {},
   "outputs": [
    {
     "name": "stdout",
     "output_type": "stream",
     "text": [
      "['cat', 'dog']\n"
     ]
    }
   ],
   "source": [
    "#too add items in the list\n",
    "animal=['cat','dog']\n",
    "print(animal)"
   ]
  },
  {
   "cell_type": "code",
   "execution_count": 20,
   "id": "departmental-billy",
   "metadata": {},
   "outputs": [
    {
     "name": "stdout",
     "output_type": "stream",
     "text": [
      "['cat', 'dog', 'fox']\n"
     ]
    }
   ],
   "source": [
    "#append method will add the element at the last\n",
    "animal=['cat','dog']\n",
    "animal.append('fox')\n",
    "print(animal)"
   ]
  },
  {
   "cell_type": "code",
   "execution_count": 22,
   "id": "strong-bonus",
   "metadata": {},
   "outputs": [
    {
     "name": "stdout",
     "output_type": "stream",
     "text": [
      "['cat', 'fox', 'dog']\n"
     ]
    }
   ],
   "source": [
    "#too add the element at any position we use insert method\n",
    "animal=['cat','dog']\n",
    "animal.insert(1,'fox')#1 will give the position you want to add\n",
    "print(animal)"
   ]
  },
  {
   "cell_type": "code",
   "execution_count": 23,
   "id": "grand-discussion",
   "metadata": {},
   "outputs": [
    {
     "name": "stdout",
     "output_type": "stream",
     "text": [
      "['cat', 'dog', 'fox', 'lion']\n"
     ]
    }
   ],
   "source": [
    "//to add two list at one place\n",
    "animal1=['cat','dog']\n",
    "animal2=['fox','lion']\n",
    "animal=animal1+animal2\n",
    "print(animal)"
   ]
  },
  {
   "cell_type": "code",
   "execution_count": 25,
   "id": "overhead-ratio",
   "metadata": {},
   "outputs": [
    {
     "name": "stdout",
     "output_type": "stream",
     "text": [
      "['cat', 'dog', 'fox', 'lion']\n",
      "['fox', 'lion']\n"
     ]
    }
   ],
   "source": [
    "#extend will concenate the list at one place\n",
    "animal1=['cat','dog']\n",
    "animal2=['fox','lion']\n",
    "animal1.extend(animal2)\n",
    "print(animal1)\n",
    "print(animal2)\n"
   ]
  },
  {
   "cell_type": "code",
   "execution_count": 26,
   "id": "resident-astronomy",
   "metadata": {},
   "outputs": [
    {
     "name": "stdout",
     "output_type": "stream",
     "text": [
      "['cat', 'dog', ['fox', 'lion']]\n",
      "['fox', 'lion']\n"
     ]
    }
   ],
   "source": [
    "#for list inside list we use append\n",
    "animal1=['cat','dog']\n",
    "animal2=['fox','lion']\n",
    "animal1.append(animal2)\n",
    "print(animal1)\n",
    "print(animal2)"
   ]
  },
  {
   "cell_type": "code",
   "execution_count": 27,
   "id": "african-credit",
   "metadata": {},
   "outputs": [
    {
     "name": "stdout",
     "output_type": "stream",
     "text": [
      "['cat', 'dog', 'fox']\n"
     ]
    }
   ],
   "source": [
    "#to delete the data from the list\n",
    "#pop method\n",
    "#-it will delete the last element from the list if you doesnt assign the any position\n",
    "animal=['cat','dog','fox','lion']\n",
    "animal.pop()\n",
    "print(animal)\n",
    "\n"
   ]
  },
  {
   "cell_type": "code",
   "execution_count": 28,
   "id": "removed-catalyst",
   "metadata": {},
   "outputs": [
    {
     "name": "stdout",
     "output_type": "stream",
     "text": [
      "['cat', 'dog', 'lion']\n"
     ]
    }
   ],
   "source": [
    "#after assigning the positon it will deleate those element only\n",
    "animal=['cat','dog','fox','lion']\n",
    "animal.pop(2)\n",
    "print(animal)"
   ]
  },
  {
   "cell_type": "code",
   "execution_count": 30,
   "id": "legislative-philadelphia",
   "metadata": {},
   "outputs": [
    {
     "name": "stdout",
     "output_type": "stream",
     "text": [
      "['cat', 'dog', 'lion']\n"
     ]
    }
   ],
   "source": [
    "#to delete the data from the list\n",
    "#del method\n",
    "animal=['cat','dog','fox','lion']\n",
    "del animal[2]\n",
    "print(animal)"
   ]
  },
  {
   "cell_type": "code",
   "execution_count": 31,
   "id": "acoustic-blackjack",
   "metadata": {},
   "outputs": [
    {
     "name": "stdout",
     "output_type": "stream",
     "text": [
      "['cat', 'fox', 'lion']\n"
     ]
    }
   ],
   "source": [
    "#to delete the data from the list\n",
    "#remove method-it is used when you dont know the position of the element in the list\n",
    "animal=['cat','dog','fox','lion']\n",
    "animal.remove('dog')\n",
    "print(animal)"
   ]
  },
  {
   "cell_type": "code",
   "execution_count": 32,
   "id": "documentary-responsibility",
   "metadata": {},
   "outputs": [
    {
     "name": "stdout",
     "output_type": "stream",
     "text": [
      "['cat', 'dog', 'fox', 'lion']\n"
     ]
    }
   ],
   "source": [
    "animal=['cat','cat','dog','fox','lion']\n",
    "animal.remove('cat')\n",
    "print(animal)"
   ]
  },
  {
   "cell_type": "code",
   "execution_count": null,
   "id": "hungarian-colombia",
   "metadata": {},
   "outputs": [],
   "source": []
  },
  {
   "cell_type": "code",
   "execution_count": 35,
   "id": "ahead-fifth",
   "metadata": {},
   "outputs": [
    {
     "name": "stdout",
     "output_type": "stream",
     "text": [
      "cat is there \n"
     ]
    }
   ],
   "source": [
    "#to check weather the element is in the lsit or not\n",
    "animal=['cat','cat','dog','fox','lion']\n",
    "if 'cat' in animal:\n",
    "    print(\"cat is there \")\n",
    "    \n",
    "else:\n",
    "    print(\"sorry\")\n",
    "    \n"
   ]
  },
  {
   "cell_type": "code",
   "execution_count": 41,
   "id": "median-letter",
   "metadata": {},
   "outputs": [
    {
     "name": "stdout",
     "output_type": "stream",
     "text": [
      "2\n",
      "1\n"
     ]
    }
   ],
   "source": [
    "#count method\n",
    "animal=['cat','cat','dog','fox','lion']\n",
    "print(animal.count('cat'))\n",
    "print(animal.count('fox'))"
   ]
  },
  {
   "cell_type": "code",
   "execution_count": 44,
   "id": "practical-batman",
   "metadata": {},
   "outputs": [
    {
     "name": "stdout",
     "output_type": "stream",
     "text": [
      "['ball', 'cat', 'cat', 'dog', 'fox', 'lion']\n"
     ]
    }
   ],
   "source": [
    "#sort method-to arrenge in alphabetical order,increasing \n",
    "animal=['cat','cat','dog','ball','fox','lion']\n",
    "animal.sort()\n",
    "print(animal)"
   ]
  },
  {
   "cell_type": "code",
   "execution_count": 45,
   "id": "charming-decline",
   "metadata": {},
   "outputs": [
    {
     "name": "stdout",
     "output_type": "stream",
     "text": [
      "['ball', 'cat', 'cat', 'dog', 'fox', 'lion']\n",
      "['cat', 'cat', 'dog', 'ball', 'fox', 'lion']\n"
     ]
    }
   ],
   "source": [
    "#shorted number\n",
    "animal=['cat','cat','dog','ball','fox','lion']\n",
    "print(sorted(animal))\n",
    "print(animal)"
   ]
  },
  {
   "cell_type": "code",
   "execution_count": 46,
   "id": "italian-express",
   "metadata": {},
   "outputs": [
    {
     "name": "stdout",
     "output_type": "stream",
     "text": [
      "[]\n"
     ]
    }
   ],
   "source": [
    "#clear method -to make the list empty\n",
    "animal=['cat','cat','dog','ball','fox','lion']\n",
    "animal.clear()\n",
    "print(animal)"
   ]
  },
  {
   "cell_type": "code",
   "execution_count": 51,
   "id": "large-cardiff",
   "metadata": {},
   "outputs": [
    {
     "name": "stdout",
     "output_type": "stream",
     "text": [
      "[0, 1, 2, 4, 10, 7, 6]\n"
     ]
    }
   ],
   "source": [
    "#copy method\n",
    "numbers=[0,1,2,4,10,7,6]\n",
    "numbers_copy=numbers.copy()\n",
    "print(numbers_copy)"
   ]
  },
  {
   "cell_type": "code",
   "execution_count": 52,
   "id": "latter-illness",
   "metadata": {},
   "outputs": [
    {
     "name": "stdout",
     "output_type": "stream",
     "text": [
      "True\n"
     ]
    }
   ],
   "source": [
    "#coparision of list\n",
    "animal1=['cat','cat','dog','ball','fox','lion']\n",
    "animal2=['cat','cat','dog','ball','fox','lion']\n",
    "print(animal1==animal2)\n",
    "#values are same"
   ]
  },
  {
   "cell_type": "code",
   "execution_count": 53,
   "id": "serial-funds",
   "metadata": {},
   "outputs": [
    {
     "name": "stdout",
     "output_type": "stream",
     "text": [
      "False\n"
     ]
    }
   ],
   "source": [
    "animal1=['cat','cat','dog','ball','fox','lion']\n",
    "animal2=['cat','cat','dog','ball','fox','lion']\n",
    "print(animal1 is animal2)\n",
    "#is it there in the same place of the memory"
   ]
  },
  {
   "cell_type": "code",
   "execution_count": 57,
   "id": "twelve-eating",
   "metadata": {},
   "outputs": [
    {
     "name": "stdout",
     "output_type": "stream",
     "text": [
      "['nehal', '01']\n"
     ]
    }
   ],
   "source": [
    "#join method it is used to convert the string into the list\n",
    "name='nehal 01'.split()\n",
    "print(name)\n",
    " "
   ]
  },
  {
   "cell_type": "code",
   "execution_count": 58,
   "id": "effective-frame",
   "metadata": {},
   "outputs": [
    {
     "name": "stdout",
     "output_type": "stream",
     "text": [
      "['nehal', '01']\n"
     ]
    }
   ],
   "source": [
    "name1='nehal,01'.split(',')\n",
    "print(name1)"
   ]
  },
  {
   "cell_type": "code",
   "execution_count": 59,
   "id": "bronze-letter",
   "metadata": {},
   "outputs": [
    {
     "name": "stdout",
     "output_type": "stream",
     "text": [
      "nehal\n",
      "01\n"
     ]
    }
   ],
   "source": [
    "name,roll='nehal,01'.split(\",\")\n",
    "print(name)\n",
    "print(roll)"
   ]
  },
  {
   "cell_type": "code",
   "execution_count": 62,
   "id": "written-garden",
   "metadata": {},
   "outputs": [
    {
     "name": "stdout",
     "output_type": "stream",
     "text": [
      "nehal,24\n"
     ]
    }
   ],
   "source": [
    "name=['nehal','24']\n",
    "print(','.join(name))"
   ]
  },
  {
   "cell_type": "code",
   "execution_count": 66,
   "id": "experienced-fitness",
   "metadata": {},
   "outputs": [
    {
     "name": "stdout",
     "output_type": "stream",
     "text": [
      "string\n"
     ]
    }
   ],
   "source": [
    " #strings are immutable\n",
    "s=\"string\"\n",
    "s.title()\n",
    "print(s)"
   ]
  },
  {
   "cell_type": "code",
   "execution_count": 67,
   "id": "departmental-charm",
   "metadata": {},
   "outputs": [
    {
     "name": "stdout",
     "output_type": "stream",
     "text": [
      "String\n"
     ]
    }
   ],
   "source": [
    "s=\"string\"\n",
    "t=s.title()\n",
    "print(t)"
   ]
  },
  {
   "cell_type": "code",
   "execution_count": 69,
   "id": "integrated-collect",
   "metadata": {},
   "outputs": [
    {
     "name": "stdout",
     "output_type": "stream",
     "text": [
      "['string1', 'string2', 'string3', 'string4']\n"
     ]
    }
   ],
   "source": [
    "#list are mutable\n",
    "s=['string1','string2','string3','string4','string5',]\n",
    "s.pop()\n",
    "print(s)"
   ]
  },
  {
   "cell_type": "code",
   "execution_count": 70,
   "id": "realistic-player",
   "metadata": {},
   "outputs": [
    {
     "name": "stdout",
     "output_type": "stream",
     "text": [
      "string1\n",
      "string2\n",
      "string3\n",
      "string4\n",
      "string5\n"
     ]
    }
   ],
   "source": [
    "#for loop in list\n",
    "string=['string1','string2','string3','string4','string5',]\n",
    "for i in string:\n",
    "    print(i)"
   ]
  },
  {
   "cell_type": "code",
   "execution_count": 71,
   "id": "interested-commander",
   "metadata": {},
   "outputs": [
    {
     "name": "stdout",
     "output_type": "stream",
     "text": [
      "string1\n",
      "string2\n",
      "string3\n",
      "string4\n",
      "string5\n"
     ]
    }
   ],
   "source": [
    "#while loop in list\n",
    "string=['string1','string2','string3','string4','string5']\n",
    "i=0\n",
    "while i<len(string):\n",
    "    print(string[i])\n",
    "    i+=1\n",
    "    "
   ]
  },
  {
   "cell_type": "code",
   "execution_count": 76,
   "id": "planned-range",
   "metadata": {},
   "outputs": [
    {
     "name": "stdout",
     "output_type": "stream",
     "text": [
      "[1, 2, 3]\n",
      "[4, 5, 6]\n",
      "[7, 8, 9]\n"
     ]
    }
   ],
   "source": [
    "#list inside list\n",
    "matrix=[[1,2,3],[4,5,6],[7,8,9]]\n",
    "for i in matrix:\n",
    "    print(i)"
   ]
  },
  {
   "cell_type": "code",
   "execution_count": 79,
   "id": "economic-people",
   "metadata": {},
   "outputs": [
    {
     "name": "stdout",
     "output_type": "stream",
     "text": [
      "1\n",
      "2\n",
      "3\n",
      "4\n",
      "5\n",
      "6\n",
      "7\n",
      "8\n",
      "9\n"
     ]
    }
   ],
   "source": [
    "matrix=[[1,2,3],[4,5,6],[7,8,9]]\n",
    "for sublist in matrix:\n",
    "    for i in sublist:\n",
    "        print(i)\n",
    "    "
   ]
  },
  {
   "cell_type": "code",
   "execution_count": 85,
   "id": "dressed-apollo",
   "metadata": {},
   "outputs": [
    {
     "name": "stdout",
     "output_type": "stream",
     "text": [
      "9\n"
     ]
    }
   ],
   "source": [
    "matrix=[[1,2,3],[4,5,6],[7,8,9]]\n",
    "print(matrix[2][2])"
   ]
  },
  {
   "cell_type": "code",
   "execution_count": 86,
   "id": "built-advertiser",
   "metadata": {},
   "outputs": [
    {
     "name": "stdout",
     "output_type": "stream",
     "text": [
      "<class 'str'>\n"
     ]
    }
   ],
   "source": [
    "#to find which type of class it is\n",
    "s=\"string\"\n",
    "print(type(s))"
   ]
  },
  {
   "cell_type": "code",
   "execution_count": 92,
   "id": "green-province",
   "metadata": {},
   "outputs": [
    {
     "name": "stdout",
     "output_type": "stream",
     "text": [
      "[1, 2, 3, 4, 5, 6, 7, 8, 9, 10, 11, 12, 13, 14, 15, 16, 17, 18, 19, 20]\n"
     ]
    }
   ],
   "source": [
    "#generate the list with the range function\n",
    "num=list(range(1,21))\n",
    "print(num)\n",
    "\n"
   ]
  },
  {
   "cell_type": "code",
   "execution_count": 5,
   "id": "danish-publication",
   "metadata": {},
   "outputs": [
    {
     "name": "stdout",
     "output_type": "stream",
     "text": [
      "[1, 4, 9, 16, 25, 36, 49, 64, 81, 100]\n"
     ]
    }
   ],
   "source": [
    "#define the function which will take the list and return the square of the list\n",
    "def square_list(num):\n",
    "    square=[]\n",
    "    for i in num:\n",
    "        square.append(i**2)\n",
    "    return square\n",
    "num1=list(range(1,11))\n",
    "print(square_list(num1))\n",
    "\n"
   ]
  },
  {
   "cell_type": "code",
   "execution_count": 8,
   "id": "suitable-terrain",
   "metadata": {},
   "outputs": [
    {
     "name": "stdout",
     "output_type": "stream",
     "text": [
      "[4, 3, 2, 1]\n"
     ]
    }
   ],
   "source": [
    "def reverse_list(l):\n",
    "    l.reverse()\n",
    "    return l\n",
    "numbers=[1,2,3,4]\n",
    "print(reverse_list(numbers))"
   ]
  },
  {
   "cell_type": "code",
   "execution_count": 14,
   "id": "touched-girlfriend",
   "metadata": {},
   "outputs": [
    {
     "name": "stdout",
     "output_type": "stream",
     "text": [
      "[4, 3, 2, 1]\n"
     ]
    }
   ],
   "source": [
    " def reverse_list(l):\n",
    "    return l[::-1]\n",
    "numbers=[1,2,3,4]\n",
    "print(reverse_list(numbers))"
   ]
  },
  {
   "cell_type": "code",
   "execution_count": 15,
   "id": "vertical-shelf",
   "metadata": {},
   "outputs": [
    {
     "name": "stdout",
     "output_type": "stream",
     "text": [
      "2\n",
      "6\n"
     ]
    }
   ],
   "source": [
    "#min and max numbers\n",
    "numbers=[2,4,6]\n",
    "print(min(numbers))\n",
    "print(max(numbers))\n"
   ]
  },
  {
   "cell_type": "code",
   "execution_count": 18,
   "id": "destroyed-clone",
   "metadata": {},
   "outputs": [
    {
     "name": "stdout",
     "output_type": "stream",
     "text": [
      "30\n"
     ]
    }
   ],
   "source": [
    "def greatest_def(num):\n",
    "    return max(num)-min(num)\n",
    "numbers=[10,20,30,40]\n",
    "print(greatest_def(numbers))"
   ]
  },
  {
   "cell_type": "code",
   "execution_count": null,
   "id": "modular-advance",
   "metadata": {},
   "outputs": [],
   "source": []
  }
 ],
 "metadata": {
  "kernelspec": {
   "display_name": "Python 3",
   "language": "python",
   "name": "python3"
  },
  "language_info": {
   "codemirror_mode": {
    "name": "ipython",
    "version": 3
   },
   "file_extension": ".py",
   "mimetype": "text/x-python",
   "name": "python",
   "nbconvert_exporter": "python",
   "pygments_lexer": "ipython3",
   "version": "3.8.5"
  }
 },
 "nbformat": 4,
 "nbformat_minor": 5
}
