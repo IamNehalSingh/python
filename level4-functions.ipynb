{
 "cells": [
  {
   "cell_type": "code",
   "execution_count": 7,
   "id": "naughty-morocco",
   "metadata": {},
   "outputs": [
    {
     "name": "stdout",
     "output_type": "stream",
     "text": [
      "Enter the first number;100\n",
      "Enter the second  number:900\n",
      "sum of two number is :1000\n"
     ]
    }
   ],
   "source": [
    "def add_two_number(a,b):\n",
    "    return a+b\n",
    "a=int(input(\"Enter the first number;\"))\n",
    "b=int(input(\"Enter the second  number:\"))\n",
    "total=add_two_number(a,b)\n",
    "print(f\"sum of two number is :{total}\")"
   ]
  },
  {
   "cell_type": "code",
   "execution_count": null,
   "id": "portable-insured",
   "metadata": {},
   "outputs": [],
   "source": [
    "#define the function and then store the function simple to get requaired output\n",
    "#def for defining the function\n",
    "\n",
    "#the place where u define the function is called parameter\n",
    "#the place where u call the function is called as arguement  "
   ]
  },
  {
   "cell_type": "code",
   "execution_count": 18,
   "id": "palestinian-carolina",
   "metadata": {},
   "outputs": [
    {
     "name": "stdout",
     "output_type": "stream",
     "text": [
      "11\n"
     ]
    }
   ],
   "source": [
    "def add_two_number(a,b):\n",
    "    return a+b\n",
    "total=add_two_number(5,6)\n",
    "print(total)"
   ]
  },
  {
   "cell_type": "code",
   "execution_count": 3,
   "id": "leading-overall",
   "metadata": {},
   "outputs": [
    {
     "name": "stdout",
     "output_type": "stream",
     "text": [
      "enter your first namenehal\n",
      "enter your surnamesingh\n",
      "welcome nehalsingh\n"
     ]
    }
   ],
   "source": [
    "def add_two_string(a,b):\n",
    "    return a+b\n",
    "a=input(\"enter your first name\")\n",
    "b=input(\"enter your surname\")\n",
    "full_name=add_two_string(a,b)\n",
    "print(f\"welcome {full_name}\")"
   ]
  },
  {
   "cell_type": "code",
   "execution_count": 4,
   "id": "departmental-conclusion",
   "metadata": {},
   "outputs": [
    {
     "name": "stdout",
     "output_type": "stream",
     "text": [
      "enter your first namenehal\n",
      "enter your surnamesingh\n",
      "welcome nehalsingh\n"
     ]
    }
   ],
   "source": [
    "def add_two_string(a,b):\n",
    "    return a+b\n",
    "first=input(\"enter your first name\")\n",
    "second=input(\"enter your surname\")\n",
    "full_name=add_two_string(first,second)\n",
    "print(f\"welcome {full_name}\")"
   ]
  },
  {
   "cell_type": "code",
   "execution_count": 8,
   "id": "bulgarian-riding",
   "metadata": {},
   "outputs": [
    {
     "name": "stdout",
     "output_type": "stream",
     "text": [
      "15\n"
     ]
    }
   ],
   "source": [
    "#return vs print\n",
    "#we mostly use return for function\n",
    "def add_three(a,b,c):\n",
    "    return (a+b+c)\n",
    "print(add_three(5,5,5))"
   ]
  },
  {
   "cell_type": "code",
   "execution_count": 7,
   "id": "following-temperature",
   "metadata": {},
   "outputs": [
    {
     "name": "stdout",
     "output_type": "stream",
     "text": [
      "15\n"
     ]
    }
   ],
   "source": [
    "def add_three(a,b,c):\n",
    "    print (a+b+c)\n",
    "add_three(5,5,5)"
   ]
  },
  {
   "cell_type": "code",
   "execution_count": 41,
   "id": "concrete-taiwan",
   "metadata": {},
   "outputs": [
    {
     "name": "stdout",
     "output_type": "stream",
     "text": [
      "enter any char:nehal\n",
      "your last char is:l\n"
     ]
    }
   ],
   "source": [
    "#take the input and print the last char \n",
    "def last_char( name):\n",
    "    return name[-1]\n",
    "print(last_char(\"Nehal\"))"
   ]
  },
  {
   "cell_type": "code",
   "execution_count": null,
   "id": "agreed-leone",
   "metadata": {},
   "outputs": [],
   "source": [
    "def last_char(name):\n",
    "    return name[-1]\n",
    "name=input(\"enter any char:\")\n",
    "a=last_char(name)\n",
    "print(f\"your last char is:{a}\")"
   ]
  },
  {
   "cell_type": "code",
   "execution_count": null,
   "id": "interior-worker",
   "metadata": {},
   "outputs": [],
   "source": [
    "#defult parameters\n",
    "def user(first_name,last_name,age):\n",
    "    print(f\"your first name is:{first_name}\")\n",
    "    print(f\"your last  name is:{last_name}\")\n",
    "    print(f\"your age  is :{age}\")\n",
    "user('Nehal','Singh',20)"
   ]
  },
  {
   "cell_type": "code",
   "execution_count": 27,
   "id": "adjusted-button",
   "metadata": {},
   "outputs": [
    {
     "ename": "TypeError",
     "evalue": "user() missing 1 required positional argument: 'age'",
     "output_type": "error",
     "traceback": [
      "\u001b[0;31m---------------------------------------------------------------------------\u001b[0m",
      "\u001b[0;31mTypeError\u001b[0m                                 Traceback (most recent call last)",
      "\u001b[0;32m<ipython-input-27-21c5b97cbc35>\u001b[0m in \u001b[0;36m<module>\u001b[0;34m\u001b[0m\n\u001b[1;32m      4\u001b[0m     \u001b[0mprint\u001b[0m\u001b[0;34m(\u001b[0m\u001b[0;34mf\"your last  name is:{last_name}\"\u001b[0m\u001b[0;34m)\u001b[0m\u001b[0;34m\u001b[0m\u001b[0;34m\u001b[0m\u001b[0m\n\u001b[1;32m      5\u001b[0m     \u001b[0mprint\u001b[0m\u001b[0;34m(\u001b[0m\u001b[0;34mf\"your age  is :{age}\"\u001b[0m\u001b[0;34m)\u001b[0m\u001b[0;34m\u001b[0m\u001b[0;34m\u001b[0m\u001b[0m\n\u001b[0;32m----> 6\u001b[0;31m \u001b[0muser\u001b[0m\u001b[0;34m(\u001b[0m\u001b[0;34m'Nehal'\u001b[0m\u001b[0;34m,\u001b[0m\u001b[0;34m'Singh'\u001b[0m\u001b[0;34m)\u001b[0m\u001b[0;34m\u001b[0m\u001b[0;34m\u001b[0m\u001b[0m\n\u001b[0m",
      "\u001b[0;31mTypeError\u001b[0m: user() missing 1 required positional argument: 'age'"
     ]
    }
   ],
   "source": [
    "#defult parameters\n",
    "def user(first_name,last_name,age):\n",
    "    print(f\"your first name is:{first_name}\")\n",
    "    print(f\"your last  name is:{last_name}\")\n",
    "    print(f\"your age  is :{age}\")\n",
    "user('Nehal','Singh')"
   ]
  },
  {
   "cell_type": "code",
   "execution_count": 28,
   "id": "creative-variation",
   "metadata": {},
   "outputs": [
    {
     "name": "stdout",
     "output_type": "stream",
     "text": [
      "your first name is:Nehal\n",
      "your last  name is:Singh\n",
      "your age  is :24\n"
     ]
    }
   ],
   "source": [
    "#defult parameters\n",
    "#in this the defult paramte override\n",
    "def user(first_name,last_name,age=23):\n",
    "    print(f\"your first name is:{first_name}\")\n",
    "    print(f\"your last  name is:{last_name}\")\n",
    "    print(f\"your age  is :{age}\")\n",
    "user('Nehal','Singh',24)"
   ]
  },
  {
   "cell_type": "code",
   "execution_count": 30,
   "id": "aerial-robertson",
   "metadata": {},
   "outputs": [
    {
     "name": "stdout",
     "output_type": "stream",
     "text": [
      "your first name is:Nehal\n",
      "your last  name is:Singh\n",
      "your age  is :20\n"
     ]
    }
   ],
   "source": [
    "#defult parameters\n",
    "#in this the defult paramte override \n",
    "def user(first_name,last_name,age=None):\n",
    "    print(f\"your first name is:{first_name}\")\n",
    "    print(f\"your last  name is:{last_name}\")\n",
    "    print(f\"your age  is :{age}\")\n",
    "user('Nehal','Singh',age=20)"
   ]
  },
  {
   "cell_type": "code",
   "execution_count": 34,
   "id": "willing-desktop",
   "metadata": {},
   "outputs": [
    {
     "name": "stdout",
     "output_type": "stream",
     "text": [
      "your first name is:Nehal\n",
      "your last  name is:25\n",
      "your age  is :None\n"
     ]
    }
   ],
   "source": [
    "#defult parameters\n",
    "#if you have the defult paramter at the end then you can print it \n",
    "def user(first_name,last_name='unknown' ,age=None):\n",
    "    print(f\"your first name is:{first_name}\")\n",
    "    print(f\"your last  name is:{last_name}\")\n",
    "    print(f\"your age  is :{age}\")\n",
    "user('Nehal',25)"
   ]
  },
  {
   "cell_type": "code",
   "execution_count": 35,
   "id": "lined-blair",
   "metadata": {},
   "outputs": [
    {
     "ename": "SyntaxError",
     "evalue": "non-default argument follows default argument (<ipython-input-35-6efa1dd39f0b>, line 2)",
     "output_type": "error",
     "traceback": [
      "\u001b[0;36m  File \u001b[0;32m\"<ipython-input-35-6efa1dd39f0b>\"\u001b[0;36m, line \u001b[0;32m2\u001b[0m\n\u001b[0;31m    def user(first_name,last_name='unknown' ,age):\u001b[0m\n\u001b[0m             ^\u001b[0m\n\u001b[0;31mSyntaxError\u001b[0m\u001b[0;31m:\u001b[0m non-default argument follows default argument\n"
     ]
    }
   ],
   "source": [
    "#defult parameters\n",
    "#it is happening because you cannot make the defult parameter at the middle \n",
    "def user(first_name,last_name='unknown' ,age):\n",
    "    print(f\"your first name is:{first_name}\")\n",
    "    print(f\"your last  name is:{last_name}\")\n",
    "    print(f\"your age  is :{age}\")\n",
    "user('Nehal',25)"
   ]
  },
  {
   "cell_type": "code",
   "execution_count": 17,
   "id": "frank-documentary",
   "metadata": {},
   "outputs": [
    {
     "name": "stdout",
     "output_type": "stream",
     "text": [
      "odd\n"
     ]
    }
   ],
   "source": [
    "#to find odd or even\n",
    "def odd_even(a):\n",
    "    if a%2 == 0:\n",
    "        return \"even\"\n",
    "    else :\n",
    "        return \"odd\"\n",
    "\n",
    "print(odd_even(9))"
   ]
  },
  {
   "cell_type": "code",
   "execution_count": 18,
   "id": "crazy-interface",
   "metadata": {},
   "outputs": [
    {
     "name": "stdout",
     "output_type": "stream",
     "text": [
      "odd\n"
     ]
    }
   ],
   "source": [
    "def odd_even(a):\n",
    "    if a%2 == 0:\n",
    "        return \"even\"\n",
    "    return \"odd\"\n",
    "\n",
    "print(odd_even(9))"
   ]
  },
  {
   "cell_type": "code",
   "execution_count": 21,
   "id": "acoustic-belize",
   "metadata": {},
   "outputs": [
    {
     "name": "stdout",
     "output_type": "stream",
     "text": [
      "False\n"
     ]
    }
   ],
   "source": [
    "def is_even(a):\n",
    "    if a%2 == 0:\n",
    "        return True\n",
    "    return False\n",
    "\n",
    "print(is_even(9))"
   ]
  },
  {
   "cell_type": "code",
   "execution_count": 22,
   "id": "juvenile-shannon",
   "metadata": {},
   "outputs": [
    {
     "name": "stdout",
     "output_type": "stream",
     "text": [
      "False\n"
     ]
    }
   ],
   "source": [
    "def is_even(a):\n",
    "    return a%2 == 0\n",
    "print(is_even(9))"
   ]
  },
  {
   "cell_type": "code",
   "execution_count": 35,
   "id": "continued-threat",
   "metadata": {},
   "outputs": [
    {
     "name": "stdout",
     "output_type": "stream",
     "text": [
      "enter your first number10\n",
      "enter your second number20\n",
      "this number is bigger 20\n"
     ]
    }
   ],
   "source": [
    "#define the function among two number which is greater\n",
    "def bigger(a,b):\n",
    "    if a>b:\n",
    "        return a\n",
    "    return b\n",
    "\n",
    "\n",
    "a=input(\"enter your first number\")\n",
    "b=input(\"enter your second number\")\n",
    "greater=bigger(a,b)\n",
    "\n",
    "print(f\"this number is bigger {greater}\")"
   ]
  },
  {
   "cell_type": "code",
   "execution_count": 43,
   "id": "weighted-mozambique",
   "metadata": {},
   "outputs": [
    {
     "name": "stdout",
     "output_type": "stream",
     "text": [
      "enter your first number10\n",
      "enter your second number20\n",
      "enter your third number30\n",
      "this number is bigger 30\n"
     ]
    }
   ],
   "source": [
    "#define the function among 3 number which is greater\n",
    "def biggest(a,b,c):\n",
    "    if a>b and a>c:\n",
    "        return a\n",
    "    elif b>a and b>c:\n",
    "        return b\n",
    "    else:\n",
    "        return c\n",
    "a=input(\"enter your first number\")\n",
    "b=input(\"enter your second number\")\n",
    "c=input(\"enter your third number\")\n",
    "greater=biggest(a,b,c)\n",
    "\n",
    "print(f\"this number is bigger {greater}\")\n",
    "    \n",
    "    \n",
    "    \n"
   ]
  },
  {
   "cell_type": "code",
   "execution_count": 51,
   "id": "presidential-living",
   "metadata": {},
   "outputs": [
    {
     "name": "stdout",
     "output_type": "stream",
     "text": [
      "30\n"
     ]
    }
   ],
   "source": [
    "#function inside function\n",
    "def aaaa(a,b):\n",
    "    if a>b:\n",
    "        return a\n",
    "    return b\n",
    "\n",
    "def bbbb(a,b,c):\n",
    "    if a>b and a>c:\n",
    "        return a\n",
    "    elif b>a and b>c:\n",
    "        return b\n",
    "    else:\n",
    "        return c\n",
    "\n",
    "def cccc(a,b,c):\n",
    "    dddd=aaaa(a,b)\n",
    "    return aaaa(dddd,c)\n",
    "print(cccc(10,20,30))\n",
    "\n"
   ]
  },
  {
   "cell_type": "code",
   "execution_count": 52,
   "id": "streaming-watts",
   "metadata": {},
   "outputs": [
    {
     "ename": "SyntaxError",
     "evalue": "invalid syntax (<ipython-input-52-d4d030338368>, line 3)",
     "output_type": "error",
     "traceback": [
      "\u001b[0;36m  File \u001b[0;32m\"<ipython-input-52-d4d030338368>\"\u001b[0;36m, line \u001b[0;32m3\u001b[0m\n\u001b[0;31m    if string[]==string[-1]:\u001b[0m\n\u001b[0m              ^\u001b[0m\n\u001b[0;31mSyntaxError\u001b[0m\u001b[0;31m:\u001b[0m invalid syntax\n"
     ]
    }
   ],
   "source": [
    "#to cheack wetaer the sting is palindrome or not\n",
    "def  is_pallindrome(string):\n",
    "    string==string[-1]:\n",
    "        return \"palindrome\"\n",
    "    return \"its not a palindrome\"\n",
    "a=input(\"enter a string\")"
   ]
  },
  {
   "cell_type": "code",
   "execution_count": 24,
   "id": "awful-settle",
   "metadata": {},
   "outputs": [
    {
     "name": "stdout",
     "output_type": "stream",
     "text": [
      "0 1,1,2,3,5,8,13,21,34,"
     ]
    }
   ],
   "source": [
    "\n",
    "def fibonacci(n):\n",
    "    a =0\n",
    "    b =1\n",
    "    if n==1:\n",
    "        print(a)\n",
    "    elif n==2:\n",
    "        print(a, b)\n",
    "    else :\n",
    "        print(a,b, end=\",\")\n",
    "        for i in range(n-2):\n",
    "            c=a+b\n",
    "            a=b\n",
    "            b=c\n",
    "            print(b,end=\",\")\n",
    "fibonacci(10)\n",
    "\n",
    "\n",
    "            \n",
    "        "
   ]
  },
  {
   "cell_type": "code",
   "execution_count": 36,
   "id": "wanted-draft",
   "metadata": {},
   "outputs": [
    {
     "ename": "NameError",
     "evalue": "name 'x' is not defined",
     "output_type": "error",
     "traceback": [
      "\u001b[0;31m---------------------------------------------------------------------------\u001b[0m",
      "\u001b[0;31mNameError\u001b[0m                                 Traceback (most recent call last)",
      "\u001b[0;32m<ipython-input-36-2752e02db991>\u001b[0m in \u001b[0;36m<module>\u001b[0;34m\u001b[0m\n\u001b[1;32m      5\u001b[0m \u001b[0;32mdef\u001b[0m \u001b[0mfunc1\u001b[0m\u001b[0;34m(\u001b[0m\u001b[0;34m)\u001b[0m\u001b[0;34m:\u001b[0m\u001b[0;34m\u001b[0m\u001b[0;34m\u001b[0m\u001b[0m\n\u001b[1;32m      6\u001b[0m     \u001b[0mprint\u001b[0m\u001b[0;34m(\u001b[0m\u001b[0mx\u001b[0m\u001b[0;34m)\u001b[0m\u001b[0;34m\u001b[0m\u001b[0;34m\u001b[0m\u001b[0m\n\u001b[0;32m----> 7\u001b[0;31m \u001b[0mfunc1\u001b[0m\u001b[0;34m(\u001b[0m\u001b[0;34m)\u001b[0m\u001b[0;34m\u001b[0m\u001b[0;34m\u001b[0m\u001b[0m\n\u001b[0m",
      "\u001b[0;32m<ipython-input-36-2752e02db991>\u001b[0m in \u001b[0;36mfunc1\u001b[0;34m()\u001b[0m\n\u001b[1;32m      4\u001b[0m     \u001b[0;32mreturn\u001b[0m \u001b[0mx\u001b[0m\u001b[0;34m\u001b[0m\u001b[0;34m\u001b[0m\u001b[0m\n\u001b[1;32m      5\u001b[0m \u001b[0;32mdef\u001b[0m \u001b[0mfunc1\u001b[0m\u001b[0;34m(\u001b[0m\u001b[0;34m)\u001b[0m\u001b[0;34m:\u001b[0m\u001b[0;34m\u001b[0m\u001b[0;34m\u001b[0m\u001b[0m\n\u001b[0;32m----> 6\u001b[0;31m     \u001b[0mprint\u001b[0m\u001b[0;34m(\u001b[0m\u001b[0mx\u001b[0m\u001b[0;34m)\u001b[0m\u001b[0;34m\u001b[0m\u001b[0;34m\u001b[0m\u001b[0m\n\u001b[0m\u001b[1;32m      7\u001b[0m \u001b[0mfunc1\u001b[0m\u001b[0;34m(\u001b[0m\u001b[0;34m)\u001b[0m\u001b[0;34m\u001b[0m\u001b[0;34m\u001b[0m\u001b[0m\n",
      "\u001b[0;31mNameError\u001b[0m: name 'x' is not defined"
     ]
    }
   ],
   "source": [
    "#scope\n",
    "x=5 #global varriable\n",
    "def func():\n",
    "    #local varriable\n",
    "    x=7#scope of x will be in this function only \n",
    "    return x\n",
    "def func1():\n",
    "    print(x) #you cannot do this because the scope of x is \n",
    "fun1()"
   ]
  },
  {
   "cell_type": "code",
   "execution_count": 37,
   "id": "ceramic-journalist",
   "metadata": {},
   "outputs": [
    {
     "name": "stdout",
     "output_type": "stream",
     "text": [
      "7\n",
      "5\n"
     ]
    }
   ],
   "source": [
    "#scope\n",
    "x=5 #global varriable\n",
    "def func():\n",
    "    #local varriable\n",
    "    x=7\n",
    "    return x\n",
    " \n",
    "print(func())\n",
    "print(x)"
   ]
  },
  {
   "cell_type": "code",
   "execution_count": 38,
   "id": "fossil-coalition",
   "metadata": {},
   "outputs": [
    {
     "name": "stdout",
     "output_type": "stream",
     "text": [
      "7\n",
      "7\n"
     ]
    }
   ],
   "source": [
    "#scope\n",
    "x=5 \n",
    "def func():\n",
    "    global x\n",
    "    x=7\n",
    "    return x\n",
    " \n",
    "print(func())\n",
    "print(x)"
   ]
  },
  {
   "cell_type": "code",
   "execution_count": 39,
   "id": "white-reproduction",
   "metadata": {},
   "outputs": [
    {
     "name": "stdout",
     "output_type": "stream",
     "text": [
      "5\n",
      "7\n"
     ]
    }
   ],
   "source": [
    "#scope\n",
    "x=5 \n",
    "def func():\n",
    "    global x\n",
    "    x=7\n",
    "    return x\n",
    "print(x) \n",
    "print(func())\n"
   ]
  },
  {
   "cell_type": "code",
   "execution_count": 40,
   "id": "asian-crossing",
   "metadata": {},
   "outputs": [
    {
     "name": "stdout",
     "output_type": "stream",
     "text": [
      "5\n",
      "7\n",
      "7\n"
     ]
    }
   ],
   "source": [
    "#scope\n",
    "x=5 \n",
    "def func():\n",
    "    global x\n",
    "    x=7\n",
    "    return x\n",
    "print(x) \n",
    "print(func())\n",
    "print(x) "
   ]
  },
  {
   "cell_type": "code",
   "execution_count": null,
   "id": "living-novelty",
   "metadata": {},
   "outputs": [],
   "source": []
  }
 ],
 "metadata": {
  "kernelspec": {
   "display_name": "Python 3",
   "language": "python",
   "name": "python3"
  },
  "language_info": {
   "codemirror_mode": {
    "name": "ipython",
    "version": 3
   },
   "file_extension": ".py",
   "mimetype": "text/x-python",
   "name": "python",
   "nbconvert_exporter": "python",
   "pygments_lexer": "ipython3",
   "version": "3.8.5"
  }
 },
 "nbformat": 4,
 "nbformat_minor": 5
}
