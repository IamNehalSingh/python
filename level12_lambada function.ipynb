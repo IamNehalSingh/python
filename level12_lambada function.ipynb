{
 "cells": [
  {
   "cell_type": "code",
   "execution_count": 2,
   "id": "streaming-employer",
   "metadata": {},
   "outputs": [
    {
     "name": "stdout",
     "output_type": "stream",
     "text": [
      "5\n"
     ]
    }
   ],
   "source": [
    "#Lambda expression\n",
    "#anonymmous Function\n",
    "def add(a,b):\n",
    "    return a+b\n",
    "print(add(2,3))"
   ]
  },
  {
   "cell_type": "code",
   "execution_count": 1,
   "id": "human-progress",
   "metadata": {},
   "outputs": [
    {
     "name": "stdout",
     "output_type": "stream",
     "text": [
      "5\n"
     ]
    }
   ],
   "source": [
    "#1)define the lambda \n",
    "#no of arguement then coumn and then return arguement\n",
    "#then assign into the some varriable\n",
    "#use it as normal Function \n",
    "#example \n",
    "#lambda a,b:a+b\n",
    "add=lambda a,b: a+b\n",
    "print(add(2,3))"
   ]
  },
  {
   "cell_type": "code",
   "execution_count": 6,
   "id": "diverse-testing",
   "metadata": {},
   "outputs": [
    {
     "name": "stdout",
     "output_type": "stream",
     "text": [
      "5\n",
      "<function <lambda> at 0x7f6b944921f0>\n"
     ]
    }
   ],
   "source": [
    "#we use this in built in function like map ,reduce ,filter\n",
    "sum1=lambda a,b: a+b\n",
    "print(sum1(2,3))\n",
    "print(sum1)"
   ]
  },
  {
   "cell_type": "code",
   "execution_count": 8,
   "id": "graphic-visitor",
   "metadata": {},
   "outputs": [
    {
     "name": "stdout",
     "output_type": "stream",
     "text": [
      "20\n"
     ]
    }
   ],
   "source": [
    "mul=lambda a,b: a*b\n",
    "print(mul(4,5))"
   ]
  },
  {
   "cell_type": "code",
   "execution_count": 9,
   "id": "criminal-status",
   "metadata": {},
   "outputs": [
    {
     "name": "stdout",
     "output_type": "stream",
     "text": [
      "<function <lambda> at 0x7f35444c1940>\n"
     ]
    }
   ],
   "source": [
    "#there is no name of this thing\n",
    "print(add)"
   ]
  },
  {
   "cell_type": "code",
   "execution_count": 10,
   "id": "pharmaceutical-chess",
   "metadata": {},
   "outputs": [
    {
     "name": "stdout",
     "output_type": "stream",
     "text": [
      "<function <lambda> at 0x7f35444c1dc0>\n"
     ]
    }
   ],
   "source": [
    "print(mul)"
   ]
  },
  {
   "cell_type": "code",
   "execution_count": 11,
   "id": "racial-toilet",
   "metadata": {},
   "outputs": [
    {
     "name": "stdout",
     "output_type": "stream",
     "text": [
      "False\n"
     ]
    }
   ],
   "source": [
    "def is_even(a):\n",
    "    if a%2==0:\n",
    "        return True\n",
    "    else :\n",
    "        return False\n",
    "print(is_even(5))"
   ]
  },
  {
   "cell_type": "code",
   "execution_count": 13,
   "id": "vocal-hawaiian",
   "metadata": {},
   "outputs": [
    {
     "name": "stdout",
     "output_type": "stream",
     "text": [
      "True\n"
     ]
    }
   ],
   "source": [
    "is_even=lambda a:a%2==0\n",
    "print(is_even(6))"
   ]
  },
  {
   "cell_type": "code",
   "execution_count": 16,
   "id": "private-picking",
   "metadata": {},
   "outputs": [
    {
     "name": "stdout",
     "output_type": "stream",
     "text": [
      "l\n"
     ]
    }
   ],
   "source": [
    "#for last char\n",
    "last_char=lambda s:s[-1]\n",
    "print(last_char('Nehal'))"
   ]
  },
  {
   "cell_type": "code",
   "execution_count": 2,
   "id": "swiss-dating",
   "metadata": {},
   "outputs": [
    {
     "name": "stdout",
     "output_type": "stream",
     "text": [
      "False\n"
     ]
    }
   ],
   "source": [
    "#lambda for if else\n",
    "def func(s):\n",
    "    if len(s)>5:\n",
    "        return True\n",
    "    return False\n",
    "print(func('Nehal'))"
   ]
  },
  {
   "cell_type": "code",
   "execution_count": 3,
   "id": "invisible-highlight",
   "metadata": {},
   "outputs": [
    {
     "name": "stdout",
     "output_type": "stream",
     "text": [
      "True\n"
     ]
    }
   ],
   "source": [
    "func=lambda s: True if len(s)>5 else False\n",
    "print(func('NehalSinghParmar'))"
   ]
  },
  {
   "cell_type": "code",
   "execution_count": null,
   "id": "significant-survival",
   "metadata": {},
   "outputs": [],
   "source": []
  }
 ],
 "metadata": {
  "kernelspec": {
   "display_name": "Python 3",
   "language": "python",
   "name": "python3"
  },
  "language_info": {
   "codemirror_mode": {
    "name": "ipython",
    "version": 3
   },
   "file_extension": ".py",
   "mimetype": "text/x-python",
   "name": "python",
   "nbconvert_exporter": "python",
   "pygments_lexer": "ipython3",
   "version": "3.8.5"
  }
 },
 "nbformat": 4,
 "nbformat_minor": 5
}
