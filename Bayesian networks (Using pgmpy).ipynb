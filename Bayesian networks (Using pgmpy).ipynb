{
 "cells": [
  {
   "cell_type": "code",
   "execution_count": null,
   "metadata": {
    "id": "Qd_AR2r4Y99k"
   },
   "outputs": [],
   "source": [
    "!pip install pgmpy"
   ]
  },
  {
   "cell_type": "code",
   "execution_count": 2,
   "metadata": {
    "executionInfo": {
     "elapsed": 5824,
     "status": "ok",
     "timestamp": 1613547773315,
     "user": {
      "displayName": "Venkata Dhiren Seera",
      "photoUrl": "",
      "userId": "04204861903859669780"
     },
     "user_tz": -180
    },
    "id": "Wh2TeTdRUDL9"
   },
   "outputs": [],
   "source": [
    "import pgmpy\n",
    "from pgmpy.factors.discrete import TabularCPD\n",
    "from pgmpy.models import BayesianModel"
   ]
  },
  {
   "cell_type": "code",
   "execution_count": 3,
   "metadata": {
    "executionInfo": {
     "elapsed": 1785,
     "status": "ok",
     "timestamp": 1613547786105,
     "user": {
      "displayName": "Venkata Dhiren Seera",
      "photoUrl": "",
      "userId": "04204861903859669780"
     },
     "user_tz": -180
    },
    "id": "PYCzq7ksUNxw"
   },
   "outputs": [],
   "source": [
    "diagnosis_model = BayesianModel([('Disease', 'Fever'),\n",
    "                             ('Disease', 'Cough'),\n",
    "                             ('Disease', 'Diarrhea')])"
   ]
  },
  {
   "cell_type": "code",
   "execution_count": 4,
   "metadata": {
    "executionInfo": {
     "elapsed": 921,
     "status": "ok",
     "timestamp": 1613547796966,
     "user": {
      "displayName": "Venkata Dhiren Seera",
      "photoUrl": "",
      "userId": "04204861903859669780"
     },
     "user_tz": -180
    },
    "id": "NkKlP6xFcL77"
   },
   "outputs": [],
   "source": [
    "disease_cpd = TabularCPD(\n",
    "                variable = 'Disease',\n",
    "                variable_card = 3,\n",
    "                values = [[0.5], [0.3], [0.2]])"
   ]
  },
  {
   "cell_type": "code",
   "execution_count": 5,
   "metadata": {
    "executionInfo": {
     "elapsed": 917,
     "status": "ok",
     "timestamp": 1613547819999,
     "user": {
      "displayName": "Venkata Dhiren Seera",
      "photoUrl": "",
      "userId": "04204861903859669780"
     },
     "user_tz": -180
    },
    "id": "-Bz7GgpvVtSB"
   },
   "outputs": [],
   "source": [
    "fever_cpd = TabularCPD(\n",
    "                variable = 'Fever',\n",
    "                variable_card = 2,\n",
    "                values = [[0.99, 0.02, 0.01],\n",
    "                          [0.01, 0.98, 0.99]],\n",
    "                evidence = ['Disease'],\n",
    "                evidence_card = [3])\n",
    "\n",
    "cough_cpd = TabularCPD(\n",
    "                variable = 'Cough',\n",
    "                variable_card = 2,\n",
    "                values = [[0.99, 0.05, 0.9],\n",
    "                          [0.01, 0.95, 0.1]],\n",
    "                evidence = ['Disease'],\n",
    "                evidence_card = [3])\n",
    "\n",
    "diarrhea_cpd = TabularCPD(\n",
    "                variable = 'Diarrhea',\n",
    "                variable_card = 2,\n",
    "                values = [[0.95, 0.8, 0.02],\n",
    "                          [0.05, 0.2, 0.98]],\n",
    "                evidence = ['Disease'],\n",
    "                evidence_card = [3])"
   ]
  },
  {
   "cell_type": "code",
   "execution_count": 6,
   "metadata": {
    "executionInfo": {
     "elapsed": 1023,
     "status": "ok",
     "timestamp": 1613547837428,
     "user": {
      "displayName": "Venkata Dhiren Seera",
      "photoUrl": "",
      "userId": "04204861903859669780"
     },
     "user_tz": -180
    },
    "id": "z1nXORnXYfqg"
   },
   "outputs": [],
   "source": [
    "diagnosis_model.add_cpds(disease_cpd, fever_cpd, cough_cpd, diarrhea_cpd)"
   ]
  },
  {
   "cell_type": "code",
   "execution_count": 7,
   "metadata": {
    "colab": {
     "base_uri": "https://localhost:8080/"
    },
    "executionInfo": {
     "elapsed": 982,
     "status": "ok",
     "timestamp": 1613547839628,
     "user": {
      "displayName": "Venkata Dhiren Seera",
      "photoUrl": "",
      "userId": "04204861903859669780"
     },
     "user_tz": -180
    },
    "id": "wSb1yuejYzSO",
    "outputId": "ae81675e-cc1a-425b-acdd-757ce37d8f92"
   },
   "outputs": [
    {
     "data": {
      "text/plain": [
       "[<TabularCPD representing P(Disease:3) at 0x7f099b53cda0>,\n",
       " <TabularCPD representing P(Fever:2 | Disease:3) at 0x7f099b4f95c0>,\n",
       " <TabularCPD representing P(Cough:2 | Disease:3) at 0x7f099b4f9588>,\n",
       " <TabularCPD representing P(Diarrhea:2 | Disease:3) at 0x7f099b4f9550>]"
      ]
     },
     "execution_count": 7,
     "metadata": {
      "tags": []
     },
     "output_type": "execute_result"
    }
   ],
   "source": [
    "diagnosis_model.get_cpds()"
   ]
  },
  {
   "cell_type": "code",
   "execution_count": 8,
   "metadata": {
    "colab": {
     "base_uri": "https://localhost:8080/"
    },
    "executionInfo": {
     "elapsed": 945,
     "status": "ok",
     "timestamp": 1613547849833,
     "user": {
      "displayName": "Venkata Dhiren Seera",
      "photoUrl": "",
      "userId": "04204861903859669780"
     },
     "user_tz": -180
    },
    "id": "MImt6PrqdiY8",
    "outputId": "60457891-005f-4c23-ac03-fc67ced7a7c8"
   },
   "outputs": [
    {
     "data": {
      "text/plain": [
       "{'Cough': {'Cough', 'Diarrhea', 'Disease', 'Fever'}}"
      ]
     },
     "execution_count": 8,
     "metadata": {
      "tags": []
     },
     "output_type": "execute_result"
    }
   ],
   "source": [
    "diagnosis_model.active_trail_nodes('Cough')"
   ]
  },
  {
   "cell_type": "code",
   "execution_count": 9,
   "metadata": {
    "colab": {
     "base_uri": "https://localhost:8080/"
    },
    "executionInfo": {
     "elapsed": 863,
     "status": "ok",
     "timestamp": 1613547852677,
     "user": {
      "displayName": "Venkata Dhiren Seera",
      "photoUrl": "",
      "userId": "04204861903859669780"
     },
     "user_tz": -180
    },
    "id": "_7BGD4-9dtpM",
    "outputId": "6f5735dc-006b-407d-b1de-ea9e9e16a9f9"
   },
   "outputs": [
    {
     "data": {
      "text/plain": [
       "(Cough _|_ Fever, Diarrhea | Disease)"
      ]
     },
     "execution_count": 9,
     "metadata": {
      "tags": []
     },
     "output_type": "execute_result"
    }
   ],
   "source": [
    "diagnosis_model.local_independencies('Cough')"
   ]
  },
  {
   "cell_type": "code",
   "execution_count": 10,
   "metadata": {
    "colab": {
     "base_uri": "https://localhost:8080/"
    },
    "executionInfo": {
     "elapsed": 1115,
     "status": "ok",
     "timestamp": 1613547861115,
     "user": {
      "displayName": "Venkata Dhiren Seera",
      "photoUrl": "",
      "userId": "04204861903859669780"
     },
     "user_tz": -180
    },
    "id": "vOWje3xReRXS",
    "outputId": "3c593a65-575a-4d40-a576-fc4eb8c743e1"
   },
   "outputs": [
    {
     "data": {
      "text/plain": [
       "(Fever _|_ Cough, Diarrhea | Disease)\n",
       "(Fever _|_ Diarrhea | Cough, Disease)\n",
       "(Fever _|_ Cough | Diarrhea, Disease)\n",
       "(Cough _|_ Fever, Diarrhea | Disease)\n",
       "(Cough _|_ Diarrhea | Fever, Disease)\n",
       "(Cough _|_ Fever | Diarrhea, Disease)\n",
       "(Diarrhea _|_ Cough, Fever | Disease)\n",
       "(Diarrhea _|_ Fever | Cough, Disease)\n",
       "(Diarrhea _|_ Cough | Fever, Disease)"
      ]
     },
     "execution_count": 10,
     "metadata": {
      "tags": []
     },
     "output_type": "execute_result"
    }
   ],
   "source": [
    "diagnosis_model.get_independencies()"
   ]
  },
  {
   "cell_type": "code",
   "execution_count": 11,
   "metadata": {
    "executionInfo": {
     "elapsed": 842,
     "status": "ok",
     "timestamp": 1613547864306,
     "user": {
      "displayName": "Venkata Dhiren Seera",
      "photoUrl": "",
      "userId": "04204861903859669780"
     },
     "user_tz": -180
    },
    "id": "YviVdzpPeWg-"
   },
   "outputs": [],
   "source": [
    "from pgmpy.inference import VariableElimination"
   ]
  },
  {
   "cell_type": "code",
   "execution_count": 12,
   "metadata": {
    "executionInfo": {
     "elapsed": 895,
     "status": "ok",
     "timestamp": 1613547867941,
     "user": {
      "displayName": "Venkata Dhiren Seera",
      "photoUrl": "",
      "userId": "04204861903859669780"
     },
     "user_tz": -180
    },
    "id": "FeiwNfyogAbg"
   },
   "outputs": [],
   "source": [
    "diagnosis_infer = VariableElimination(diagnosis_model)"
   ]
  },
  {
   "cell_type": "code",
   "execution_count": 20,
   "metadata": {
    "colab": {
     "base_uri": "https://localhost:8080/"
    },
    "executionInfo": {
     "elapsed": 1025,
     "status": "ok",
     "timestamp": 1613548370332,
     "user": {
      "displayName": "Venkata Dhiren Seera",
      "photoUrl": "",
      "userId": "04204861903859669780"
     },
     "user_tz": -180
    },
    "id": "4DQLTQErgi6P",
    "outputId": "927116f7-0f89-480c-9770-fb27dcea8000"
   },
   "outputs": [
    {
     "name": "stderr",
     "output_type": "stream",
     "text": [
      "Finding Elimination Order: : 100%|██████████| 1/1 [00:00<00:00, 655.67it/s]\n",
      "Eliminating: Diarrhea: 100%|██████████| 1/1 [00:00<00:00, 579.88it/s]"
     ]
    },
    {
     "name": "stdout",
     "output_type": "stream",
     "text": [
      "+------------+----------------+\n",
      "| Disease    |   phi(Disease) |\n",
      "+============+================+\n",
      "| Disease(0) |         0.0161 |\n",
      "+------------+----------------+\n",
      "| Disease(1) |         0.9194 |\n",
      "+------------+----------------+\n",
      "| Disease(2) |         0.0645 |\n",
      "+------------+----------------+\n"
     ]
    },
    {
     "name": "stderr",
     "output_type": "stream",
     "text": [
      "\n"
     ]
    }
   ],
   "source": [
    "#Probability of diseases when cough is true.\n",
    "prob_disease = diagnosis_infer.query(\n",
    "                                     variables = ['Disease', 'Fever'],\n",
    "                                     evidence = {'Cough': 1},\n",
    "                                     joint=False)\n",
    "print(prob_disease['Disease'])"
   ]
  },
  {
   "cell_type": "code",
   "execution_count": 21,
   "metadata": {
    "colab": {
     "base_uri": "https://localhost:8080/"
    },
    "executionInfo": {
     "elapsed": 880,
     "status": "ok",
     "timestamp": 1613548685384,
     "user": {
      "displayName": "Venkata Dhiren Seera",
      "photoUrl": "",
      "userId": "04204861903859669780"
     },
     "user_tz": -180
    },
    "id": "HHLrNtZq_mxK",
    "outputId": "049ad2f6-6d75-4a05-f80a-56af082954cf"
   },
   "outputs": [
    {
     "name": "stderr",
     "output_type": "stream",
     "text": [
      "Finding Elimination Order: : 100%|██████████| 3/3 [00:00<00:00, 1828.91it/s]\n",
      "Eliminating: Diarrhea: 100%|██████████| 3/3 [00:00<00:00, 482.05it/s]\n"
     ]
    },
    {
     "data": {
      "text/plain": [
       "{'Disease': 0}"
      ]
     },
     "execution_count": 21,
     "metadata": {
      "tags": []
     },
     "output_type": "execute_result"
    }
   ],
   "source": [
    "diagnosis_infer.map_query(['Disease'])"
   ]
  }
 ],
 "metadata": {
  "colab": {
   "collapsed_sections": [],
   "machine_shape": "hm",
   "name": "Bayesian networks (Using pgmpy).ipynb",
   "provenance": [
    {
     "file_id": "1MrjCPaZ3_Vmoh3RU1QH5MVg7x9nfSZCT",
     "timestamp": 1613378053262
    }
   ]
  },
  "kernelspec": {
   "display_name": "Python 3",
   "language": "python",
   "name": "python3"
  },
  "language_info": {
   "codemirror_mode": {
    "name": "ipython",
    "version": 3
   },
   "file_extension": ".py",
   "mimetype": "text/x-python",
   "name": "python",
   "nbconvert_exporter": "python",
   "pygments_lexer": "ipython3",
   "version": "3.8.5"
  }
 },
 "nbformat": 4,
 "nbformat_minor": 1
}
