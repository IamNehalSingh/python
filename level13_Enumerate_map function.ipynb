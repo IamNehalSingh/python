{
 "cells": [
  {
   "cell_type": "code",
   "execution_count": null,
   "id": "concerned-camel",
   "metadata": {},
   "outputs": [],
   "source": [
    "#enumerate Function\n",
    "#used to track for loop position\n",
    "\n",
    "#map FUnction \n"
   ]
  },
  {
   "cell_type": "code",
   "execution_count": 2,
   "id": "finished-quebec",
   "metadata": {},
   "outputs": [
    {
     "name": "stdout",
     "output_type": "stream",
     "text": [
      "0---->Nehal\n",
      "1---->Singh\n",
      "2---->parmar\n"
     ]
    }
   ],
   "source": [
    "#without enumerate function\n",
    "names=['Nehal','Singh','parmar']\n",
    "pos=0\n",
    "for name in names:\n",
    "    print(f\"{pos}---->{name}\")\n",
    "    pos+=1\n",
    "          \n",
    "    "
   ]
  },
  {
   "cell_type": "code",
   "execution_count": 3,
   "id": "chronic-alarm",
   "metadata": {},
   "outputs": [
    {
     "name": "stdout",
     "output_type": "stream",
     "text": [
      "0---->Nehal\n",
      "1---->Singh\n",
      "2---->parmar\n"
     ]
    }
   ],
   "source": [
    "#with Enumerate Function\n",
    "names=['Nehal','Singh','parmar']\n",
    "for pos,name in enumerate(names):\n",
    "      print(f\"{pos}---->{name}\")"
   ]
  },
  {
   "cell_type": "code",
   "execution_count": 4,
   "id": "sunrise-bouquet",
   "metadata": {},
   "outputs": [
    {
     "name": "stdout",
     "output_type": "stream",
     "text": [
      "-1\n"
     ]
    }
   ],
   "source": [
    "def find_pos(l,target):\n",
    "    for pos,name in enumerate(l):\n",
    "        if name==target:\n",
    "            return pos\n",
    "    return -1\n",
    "print(find_pos(names,'harsit'))"
   ]
  },
  {
   "cell_type": "code",
   "execution_count": 7,
   "id": "pediatric-comment",
   "metadata": {},
   "outputs": [
    {
     "name": "stdout",
     "output_type": "stream",
     "text": [
      "[1, 4, 9, 16]\n"
     ]
    }
   ],
   "source": [
    "#Mapfunction\n",
    "numbers=[1,2,3,4]\n",
    "def square(a):\n",
    "    return a**2\n",
    "squares=list(map(square,numbers))\n",
    "print(squares)"
   ]
  },
  {
   "cell_type": "code",
   "execution_count": 9,
   "id": "illegal-natural",
   "metadata": {},
   "outputs": [
    {
     "name": "stdout",
     "output_type": "stream",
     "text": [
      "[1, 4, 9, 16]\n"
     ]
    }
   ],
   "source": [
    "#using LambdaFunc\n",
    "numbers=[1,2,3,4]\n",
    "\n",
    "squares=list(map(lambda a:a**2,numbers))\n",
    "print(squares)"
   ]
  },
  {
   "cell_type": "code",
   "execution_count": 19,
   "id": "downtown-metallic",
   "metadata": {},
   "outputs": [
    {
     "name": "stdout",
     "output_type": "stream",
     "text": [
      "[1, 4, 9, 16]\n"
     ]
    }
   ],
   "source": [
    "#using listcomp\n",
    "number=[1,2,3,4]\n",
    "squares_new=[i**2 for i in number]\n",
    "print(squares_new)\n"
   ]
  },
  {
   "cell_type": "code",
   "execution_count": 20,
   "id": "final-junction",
   "metadata": {},
   "outputs": [
    {
     "name": "stdout",
     "output_type": "stream",
     "text": [
      "[1, 4, 9, 16]\n"
     ]
    }
   ],
   "source": [
    "number=[1,2,3,4]\n",
    "new_list=[]\n",
    "for num in numbers:\n",
    "    new_list.append(square(num))\n",
    "print(new_list)"
   ]
  },
  {
   "cell_type": "code",
   "execution_count": 3,
   "id": "hidden-migration",
   "metadata": {},
   "outputs": [
    {
     "ename": "NameError",
     "evalue": "name 'square' is not defined",
     "output_type": "error",
     "traceback": [
      "\u001b[0;31m---------------------------------------------------------------------------\u001b[0m",
      "\u001b[0;31mNameError\u001b[0m                                 Traceback (most recent call last)",
      "\u001b[0;32m<ipython-input-3-acab8350ea6f>\u001b[0m in \u001b[0;36m<module>\u001b[0;34m\u001b[0m\n\u001b[1;32m      1\u001b[0m \u001b[0;31m#Mapfunction\u001b[0m\u001b[0;34m\u001b[0m\u001b[0;34m\u001b[0m\u001b[0;34m\u001b[0m\u001b[0m\n\u001b[1;32m      2\u001b[0m \u001b[0mnum\u001b[0m\u001b[0;34m=\u001b[0m\u001b[0;34m[\u001b[0m\u001b[0;36m1\u001b[0m\u001b[0;34m,\u001b[0m\u001b[0;36m2\u001b[0m\u001b[0;34m,\u001b[0m\u001b[0;36m3\u001b[0m\u001b[0;34m,\u001b[0m\u001b[0;36m4\u001b[0m\u001b[0;34m]\u001b[0m\u001b[0;34m\u001b[0m\u001b[0;34m\u001b[0m\u001b[0m\n\u001b[0;32m----> 3\u001b[0;31m \u001b[0mabc\u001b[0m\u001b[0;34m=\u001b[0m\u001b[0mlist\u001b[0m\u001b[0;34m(\u001b[0m\u001b[0mmap\u001b[0m\u001b[0;34m(\u001b[0m\u001b[0mnum\u001b[0m\u001b[0;34m,\u001b[0m\u001b[0msquare\u001b[0m\u001b[0;34m)\u001b[0m\u001b[0;34m)\u001b[0m\u001b[0;34m\u001b[0m\u001b[0;34m\u001b[0m\u001b[0m\n\u001b[0m\u001b[1;32m      4\u001b[0m \u001b[0mprint\u001b[0m\u001b[0;34m(\u001b[0m\u001b[0mabc\u001b[0m\u001b[0;34m)\u001b[0m\u001b[0;34m\u001b[0m\u001b[0;34m\u001b[0m\u001b[0m\n",
      "\u001b[0;31mNameError\u001b[0m: name 'square' is not defined"
     ]
    }
   ],
   "source": [
    "#Mapfunction\n",
    "num=[1,2,3,4]\n",
    "abc=list(map(num,square))\n",
    "print(abc)"
   ]
  },
  {
   "cell_type": "code",
   "execution_count": null,
   "id": "coated-behavior",
   "metadata": {},
   "outputs": [],
   "source": []
  }
 ],
 "metadata": {
  "kernelspec": {
   "display_name": "Python 3",
   "language": "python",
   "name": "python3"
  },
  "language_info": {
   "codemirror_mode": {
    "name": "ipython",
    "version": 3
   },
   "file_extension": ".py",
   "mimetype": "text/x-python",
   "name": "python",
   "nbconvert_exporter": "python",
   "pygments_lexer": "ipython3",
   "version": "3.8.5"
  }
 },
 "nbformat": 4,
 "nbformat_minor": 5
}
