{
 "cells": [
  {
   "cell_type": "code",
   "execution_count": null,
   "id": "logical-attraction",
   "metadata": {},
   "outputs": [],
   "source": [
    "#list comprehension\n",
    "#in this u can create the list in the single line\n"
   ]
  },
  {
   "cell_type": "code",
   "execution_count": 2,
   "id": "altered-novelty",
   "metadata": {},
   "outputs": [
    {
     "name": "stdout",
     "output_type": "stream",
     "text": [
      "[1, 4, 9, 16, 25, 36, 49, 64, 81, 100]\n"
     ]
    }
   ],
   "source": [
    "#square of number of range 1-10 by using list\n",
    "squares=[]\n",
    "for i in range(1,11):\n",
    "    squares.append(i**2)\n",
    "print(squares)\n",
    "    "
   ]
  },
  {
   "cell_type": "code",
   "execution_count": 3,
   "id": "finished-power",
   "metadata": {},
   "outputs": [
    {
     "name": "stdout",
     "output_type": "stream",
     "text": [
      "[1, 4, 9, 16, 25, 36, 49, 64, 81, 100]\n"
     ]
    }
   ],
   "source": [
    "#square of number of range 1-10 by using comprehension\n",
    "squares=[i**2 for i in range(1,11)]\n",
    "\n",
    "print(squares)\n",
    "\n",
    "    "
   ]
  },
  {
   "cell_type": "code",
   "execution_count": 4,
   "id": "minute-conversation",
   "metadata": {},
   "outputs": [
    {
     "name": "stdout",
     "output_type": "stream",
     "text": [
      "[-1, -2, -3, -4, -5, -6, -7, -8, -9, -10]\n"
     ]
    }
   ],
   "source": [
    "negative=[]\n",
    "for i in range(1,11):\n",
    "    negative.append(-i)\n",
    "print(negative)"
   ]
  },
  {
   "cell_type": "code",
   "execution_count": 7,
   "id": "opening-pontiac",
   "metadata": {},
   "outputs": [
    {
     "name": "stdout",
     "output_type": "stream",
     "text": [
      "[-1, -2, -3, -4, -5, -6, -7, -8, -9, -10]\n"
     ]
    }
   ],
   "source": [
    "negative=[-i for i in range(1,11)]\n",
    "print(negative)"
   ]
  },
  {
   "cell_type": "code",
   "execution_count": 17,
   "id": "steady-sequence",
   "metadata": {},
   "outputs": [
    {
     "name": "stdout",
     "output_type": "stream",
     "text": [
      "['N', 'S', 'P']\n"
     ]
    }
   ],
   "source": [
    "names=['Nehal','Singh','Parmar']\n",
    "newlist=[]\n",
    "for i in  names:\n",
    "    newlist.append(i[0])\n",
    "print(newlist)"
   ]
  },
  {
   "cell_type": "code",
   "execution_count": 16,
   "id": "happy-nirvana",
   "metadata": {},
   "outputs": [
    {
     "name": "stdout",
     "output_type": "stream",
     "text": [
      "['N', 'S', 'P']\n"
     ]
    }
   ],
   "source": [
    "names=['Nehal','Singh','Parmar']\n",
    "newlist=[i[0] for i in names]\n",
    "print(newlist)"
   ]
  },
  {
   "cell_type": "code",
   "execution_count": 20,
   "id": "adolescent-speed",
   "metadata": {},
   "outputs": [
    {
     "name": "stdout",
     "output_type": "stream",
     "text": [
      "<generator object reverse.<locals>.<genexpr> at 0x7fd2b4263d60>\n"
     ]
    }
   ],
   "source": [
    "def reverse(l):\n",
    "    return(name[::-1] for name in l)\n",
    "print(reverse(['Nehal','Singh','Parmar']))\n"
   ]
  },
  {
   "cell_type": "code",
   "execution_count": 21,
   "id": "logical-europe",
   "metadata": {},
   "outputs": [
    {
     "name": "stdout",
     "output_type": "stream",
     "text": [
      "['laheN', 'hgniS', 'ramraP']\n"
     ]
    }
   ],
   "source": [
    "names=['Nehal','Singh','Parmar']\n",
    "newlist=[i[::-1] for i in names]\n",
    "print(newlist)"
   ]
  },
  {
   "cell_type": "code",
   "execution_count": 3,
   "id": "composed-worth",
   "metadata": {},
   "outputs": [
    {
     "name": "stdout",
     "output_type": "stream",
     "text": [
      "[2, 4, 6, 8, 10]\n"
     ]
    }
   ],
   "source": [
    "numbers=list(range(1,11))\n",
    "num=[]\n",
    "\n",
    "for i in numbers:\n",
    "    if i%2==0:\n",
    "        num.append(i)\n",
    "print(num)\n",
    "\n",
    "    \n",
    "    "
   ]
  },
  {
   "cell_type": "code",
   "execution_count": 11,
   "id": "spiritual-johnson",
   "metadata": {},
   "outputs": [
    {
     "name": "stdout",
     "output_type": "stream",
     "text": [
      "[2, 4, 6, 8, 10]\n"
     ]
    }
   ],
   "source": [
    "#Using list cpmherension for if statement\n",
    "numbers=list(range(1,11))\n",
    "even_nums=[i for i in numbers if i%2==0]\n",
    "print(even_nums)"
   ]
  },
  {
   "cell_type": "code",
   "execution_count": 10,
   "id": "urban-protein",
   "metadata": {},
   "outputs": [
    {
     "name": "stdout",
     "output_type": "stream",
     "text": [
      "[1, 3, 5, 7, 9]\n"
     ]
    }
   ],
   "source": [
    "odd_nums=[i for i in range(1,11) if i%2!=0]\n",
    "print(odd_nums)"
   ]
  },
  {
   "cell_type": "code",
   "execution_count": 19,
   "id": "empty-reviewer",
   "metadata": {},
   "outputs": [
    {
     "name": "stdout",
     "output_type": "stream",
     "text": [
      "['1', '1.0', '3']\n"
     ]
    }
   ],
   "source": [
    "def num_to_strings(l):\n",
    "    return [str(i) for i in l if (type(i) == int or type(i) == float)]\n",
    "\n",
    "\n",
    "print(num_to_strings([True,False,(1,2,3),1,1.0,3]))"
   ]
  },
  {
   "cell_type": "code",
   "execution_count": 23,
   "id": "ordered-inquiry",
   "metadata": {},
   "outputs": [
    {
     "name": "stdout",
     "output_type": "stream",
     "text": [
      "[-1, 4, -3, 8, -5, 12, -7, 16, -9, 20]\n"
     ]
    }
   ],
   "source": [
    "#Using list cpmherension for if else statement\n",
    "num =[1,2,3,4,5,6,7,8,9,10]\n",
    "new_list=[]\n",
    "for i in num:\n",
    "    if i%2==0:\n",
    "        new_list.append(i*2)\n",
    "    else :\n",
    "        new_list.append(-i)\n",
    "        \n",
    "print(new_list)\n",
    "    \n"
   ]
  },
  {
   "cell_type": "code",
   "execution_count": 27,
   "id": "authorized-actress",
   "metadata": {},
   "outputs": [
    {
     "name": "stdout",
     "output_type": "stream",
     "text": [
      "[4, 8, 12, 16, 20]\n"
     ]
    }
   ],
   "source": [
    "#using list comp\n",
    "newlist=[i*2 for i in range(1,11) if i%2==0 ]\n",
    "print(newlist)"
   ]
  },
  {
   "cell_type": "code",
   "execution_count": 28,
   "id": "ordinary-techno",
   "metadata": {},
   "outputs": [
    {
     "name": "stdout",
     "output_type": "stream",
     "text": [
      "[-1, 4, -3, 8, -5, 12, -7, 16, -9, 20]\n"
     ]
    }
   ],
   "source": [
    "newlist=[i*2 if (i%2==0) else -i for i in range(1,11)]\n",
    "print(newlist)"
   ]
  },
  {
   "cell_type": "code",
   "execution_count": null,
   "id": "retired-concern",
   "metadata": {},
   "outputs": [],
   "source": []
  }
 ],
 "metadata": {
  "kernelspec": {
   "display_name": "Python 3",
   "language": "python",
   "name": "python3"
  },
  "language_info": {
   "codemirror_mode": {
    "name": "ipython",
    "version": 3
   },
   "file_extension": ".py",
   "mimetype": "text/x-python",
   "name": "python",
   "nbconvert_exporter": "python",
   "pygments_lexer": "ipython3",
   "version": "3.8.5"
  }
 },
 "nbformat": 4,
 "nbformat_minor": 5
}
