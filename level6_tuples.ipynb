{
 "cells": [
  {
   "cell_type": "code",
   "execution_count": null,
   "id": "transsexual-abraham",
   "metadata": {},
   "outputs": [],
   "source": [
    "#touples is also like list\n",
    "#used to store the data type\n",
    "#touples are immutable which means u cannot add and deleate  the data once they are deceleared\n",
    "#data inside touple\n",
    "#in this data are sttores in parenthisesi instead of bracket\n",
    "#touples are faster than list\n",
    "#things that we can perform in the touples are\n",
    "Count\n",
    "index\n",
    "length function\n",
    "slicing\n",
    "looping\n",
    "touple with  one element\n",
    "touple unpakcing(touple without parenthesis)\n",
    "list inside touple\n",
    "and some function\n",
    "\n",
    "\n",
    "\n"
   ]
  },
  {
   "cell_type": "code",
   "execution_count": 1,
   "id": "impressed-argentina",
   "metadata": {},
   "outputs": [
    {
     "name": "stdout",
     "output_type": "stream",
     "text": [
      "('one', 'two', 'three')\n"
     ]
    }
   ],
   "source": [
    "example=('one','two','three')\n",
    "print(example)\n"
   ]
  },
  {
   "cell_type": "code",
   "execution_count": 3,
   "id": "compressed-velvet",
   "metadata": {},
   "outputs": [
    {
     "name": "stdout",
     "output_type": "stream",
     "text": [
      "1\n"
     ]
    }
   ],
   "source": [
    "\n",
    "#count\n",
    "example=('one','two','three')\n",
    "\n",
    "print(example.count('one'))"
   ]
  },
  {
   "cell_type": "code",
   "execution_count": 4,
   "id": "painted-falls",
   "metadata": {},
   "outputs": [
    {
     "name": "stdout",
     "output_type": "stream",
     "text": [
      "three\n"
     ]
    }
   ],
   "source": [
    "#indexing\n",
    "example=('one','two','three')\n",
    "print(example[2])"
   ]
  },
  {
   "cell_type": "code",
   "execution_count": 5,
   "id": "actual-passage",
   "metadata": {},
   "outputs": [
    {
     "name": "stdout",
     "output_type": "stream",
     "text": [
      "('three', 'two', 'one')\n"
     ]
    }
   ],
   "source": [
    "#slicing \n",
    "example=('one','two','three')\n",
    "print(example[::-1])"
   ]
  },
  {
   "cell_type": "code",
   "execution_count": 7,
   "id": "administrative-bikini",
   "metadata": {},
   "outputs": [
    {
     "name": "stdout",
     "output_type": "stream",
     "text": [
      "1\n",
      "2\n",
      "3\n",
      "4.4\n"
     ]
    }
   ],
   "source": [
    "#Loop in t uple\n",
    "mixed=(1,2,3,4.4)\n",
    "for i in mixed:\n",
    "    print(i)"
   ]
  },
  {
   "cell_type": "code",
   "execution_count": 9,
   "id": "lyric-description",
   "metadata": {},
   "outputs": [
    {
     "name": "stdout",
     "output_type": "stream",
     "text": [
      "<class 'int'>\n",
      "<class 'tuple'>\n"
     ]
    }
   ],
   "source": [
    " #tuple with one element\n",
    "num=(1)\n",
    "num1=(1,)\n",
    "\n",
    "print(type(num))\n",
    "print(type(num1))"
   ]
  },
  {
   "cell_type": "code",
   "execution_count": 10,
   "id": "shaped-filter",
   "metadata": {},
   "outputs": [
    {
     "name": "stdout",
     "output_type": "stream",
     "text": [
      "<class 'tuple'>\n"
     ]
    }
   ],
   "source": [
    "#tuple without parenthesis)\n",
    "metal='gold','alluminium','silver'\n",
    "print(type(metal))"
   ]
  },
  {
   "cell_type": "code",
   "execution_count": 11,
   "id": "absent-surveillance",
   "metadata": {},
   "outputs": [
    {
     "name": "stdout",
     "output_type": "stream",
     "text": [
      "('gold', 'alluminium', 'silver')\n"
     ]
    }
   ],
   "source": [
    "#Tuple unpacking\n",
    "metal='gold','alluminium','silver'\n",
    "a,b,c=(metal)\n",
    "print(metal)"
   ]
  },
  {
   "cell_type": "code",
   "execution_count": 13,
   "id": "driving-ghana",
   "metadata": {},
   "outputs": [
    {
     "name": "stdout",
     "output_type": "stream",
     "text": [
      "('gold', 'alluminium', 'silver', ['H', 'he'])\n"
     ]
    }
   ],
   "source": [
    "#list inside tuple\n",
    "metal=('gold','alluminium','silver',['H','he'])\n",
    "print(metal)"
   ]
  },
  {
   "cell_type": "code",
   "execution_count": 15,
   "id": "biblical-spotlight",
   "metadata": {},
   "outputs": [
    {
     "name": "stdout",
     "output_type": "stream",
     "text": [
      "('gold', 'alluminium', 'silver', ['H'])\n"
     ]
    }
   ],
   "source": [
    "#mutable with list\n",
    "metal=('gold','alluminium','silver',['H','he'])\n",
    "metal[3].pop()\n",
    "print(metal)"
   ]
  },
  {
   "cell_type": "code",
   "execution_count": 16,
   "id": "hourly-place",
   "metadata": {},
   "outputs": [
    {
     "ename": "TypeError",
     "evalue": "'tuple' object is not callable",
     "output_type": "error",
     "traceback": [
      "\u001b[0;31m---------------------------------------------------------------------------\u001b[0m",
      "\u001b[0;31mTypeError\u001b[0m                                 Traceback (most recent call last)",
      "\u001b[0;32m<ipython-input-16-4df511b08e5e>\u001b[0m in \u001b[0;36m<module>\u001b[0;34m\u001b[0m\n\u001b[1;32m      1\u001b[0m \u001b[0mmetal\u001b[0m\u001b[0;34m=\u001b[0m\u001b[0;34m(\u001b[0m\u001b[0;34m'gold'\u001b[0m\u001b[0;34m,\u001b[0m\u001b[0;34m'alluminium'\u001b[0m\u001b[0;34m,\u001b[0m\u001b[0;34m'silver'\u001b[0m\u001b[0;34m)\u001b[0m\u001b[0;34m\u001b[0m\u001b[0;34m\u001b[0m\u001b[0m\n\u001b[0;32m----> 2\u001b[0;31m \u001b[0mmetal\u001b[0m\u001b[0;34m(\u001b[0m\u001b[0;36m3\u001b[0m\u001b[0;34m)\u001b[0m\u001b[0;34m.\u001b[0m\u001b[0mpop\u001b[0m\u001b[0;34m(\u001b[0m\u001b[0;34m)\u001b[0m\u001b[0;34m\u001b[0m\u001b[0;34m\u001b[0m\u001b[0m\n\u001b[0m\u001b[1;32m      3\u001b[0m \u001b[0mprint\u001b[0m\u001b[0;34m(\u001b[0m\u001b[0mmetal\u001b[0m\u001b[0;34m)\u001b[0m\u001b[0;34m\u001b[0m\u001b[0;34m\u001b[0m\u001b[0m\n",
      "\u001b[0;31mTypeError\u001b[0m: 'tuple' object is not callable"
     ]
    }
   ],
   "source": [
    "#immutable with tuple\n",
    "metal=('gold','alluminium','silver')\n",
    "metal(3).pop()\n",
    "print(metal)"
   ]
  },
  {
   "cell_type": "code",
   "execution_count": 17,
   "id": "purple-period",
   "metadata": {},
   "outputs": [
    {
     "name": "stdout",
     "output_type": "stream",
     "text": [
      "(7, 10)\n"
     ]
    }
   ],
   "source": [
    "#function with two value\n",
    "def math(int1,int2):\n",
    "    add=int1+int2\n",
    "    mul=int1*int2\n",
    "    return add,mul\n",
    "print(math(2,5))\n",
    "#the output u got is touple"
   ]
  },
  {
   "cell_type": "code",
   "execution_count": 18,
   "id": "massive-equilibrium",
   "metadata": {},
   "outputs": [
    {
     "name": "stdout",
     "output_type": "stream",
     "text": [
      "7\n",
      "10\n"
     ]
    }
   ],
   "source": [
    "def math(int1,int2):\n",
    "    add=int1+int2\n",
    "    mul=int1*int2\n",
    "    return add,mul\n",
    "add,mul=math(2,5)\n",
    "print(add)\n",
    "print(mul)"
   ]
  },
  {
   "cell_type": "code",
   "execution_count": 19,
   "id": "fresh-madagascar",
   "metadata": {},
   "outputs": [
    {
     "name": "stdout",
     "output_type": "stream",
     "text": [
      "(1, 2, 3, 4, 5, 6, 7, 8, 9, 10)\n"
     ]
    }
   ],
   "source": [
    "a=tuple(range(1,11))\n",
    "print(a)"
   ]
  },
  {
   "cell_type": "code",
   "execution_count": null,
   "id": "mighty-moore",
   "metadata": {},
   "outputs": [],
   "source": []
  }
 ],
 "metadata": {
  "kernelspec": {
   "display_name": "Python 3",
   "language": "python",
   "name": "python3"
  },
  "language_info": {
   "codemirror_mode": {
    "name": "ipython",
    "version": 3
   },
   "file_extension": ".py",
   "mimetype": "text/x-python",
   "name": "python",
   "nbconvert_exporter": "python",
   "pygments_lexer": "ipython3",
   "version": "3.8.5"
  }
 },
 "nbformat": 4,
 "nbformat_minor": 5
}
